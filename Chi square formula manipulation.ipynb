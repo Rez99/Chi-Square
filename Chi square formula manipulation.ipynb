{
 "cells": [
  {
   "cell_type": "code",
   "execution_count": 626,
   "metadata": {},
   "outputs": [
    {
     "data": {
      "text/html": [
       "-216"
      ],
      "text/latex": [
       "-216"
      ],
      "text/markdown": [
       "-216"
      ],
      "text/plain": [
       "[1] -216"
      ]
     },
     "metadata": {},
     "output_type": "display_data"
    },
    {
     "data": {
      "text/html": [
       "-0.801783725737273"
      ],
      "text/latex": [
       "-0.801783725737273"
      ],
      "text/markdown": [
       "-0.801783725737273"
      ],
      "text/plain": [
       "[1] -0.8017837"
      ]
     },
     "metadata": {},
     "output_type": "display_data"
    },
    {
     "data": {
      "text/plain": [
       "\n",
       "\tChi-squared test for given probabilities\n",
       "\n",
       "data:  c(o1, o2, o3)\n",
       "X-squared = 7175, df = 2, p-value < 2.2e-16\n"
      ]
     },
     "metadata": {},
     "output_type": "display_data"
    }
   ],
   "source": [
    "n <- 1200\n",
    "\n",
    "p1 <- 0.6\n",
    "p2 <- 0.3\n",
    "p3 <- 1-p1-p2\n",
    "\n",
    "e1 <- n*p1\n",
    "e2 <- n*p2\n",
    "e3 <- n*(1-p1-p2)\n",
    "\n",
    "o1 <- 100\n",
    "o2 <- 100\n",
    "o3 <- n - o1 - o2\n",
    "\n",
    "var1 <- n * p1 * (1-p1)\n",
    "var2 <- n * p2 * (1-p2)\n",
    "var3 <- n * (1-p1-p2) * (1-(1-p1-p2))\n",
    "\n",
    "#cov <- -var1 / (2*var2)\n",
    "cov <- -p1*p2*n # where does this come from?\n",
    "cov\n",
    "\n",
    "rho <- cov / (sqrt(var1)*sqrt(var2))\n",
    "#rho <- -(n * p1 * (1-p1)) / (2 * n * p2 * (1-p2))\n",
    "rho\n",
    "chisq.test(x = c(o1, o2, o3), p = c(p1, p2, p3))"
   ]
  },
  {
   "cell_type": "code",
   "execution_count": 636,
   "metadata": {},
   "outputs": [
    {
     "data": {
      "text/html": [
       "-17.8978583448784"
      ],
      "text/latex": [
       "-17.8978583448784"
      ],
      "text/markdown": [
       "-17.8978583448784"
      ],
      "text/plain": [
       "[1] -17.89786"
      ]
     },
     "metadata": {},
     "output_type": "display_data"
    },
    {
     "data": {
      "text/html": [
       "-7.50555349946513"
      ],
      "text/latex": [
       "-7.50555349946513"
      ],
      "text/markdown": [
       "-7.50555349946513"
      ],
      "text/plain": [
       "[1] -7.505553"
      ]
     },
     "metadata": {},
     "output_type": "display_data"
    },
    {
     "data": {
      "text/html": [
       "25.4034118443435"
      ],
      "text/latex": [
       "25.4034118443435"
      ],
      "text/markdown": [
       "25.4034118443435"
      ],
      "text/plain": [
       "[1] 25.40341"
      ]
     },
     "metadata": {},
     "output_type": "display_data"
    }
   ],
   "source": [
    "((o1-e1)/sqrt((n*p1*(1-p1))))^1 * sqrt(p1*(1-p1))\n",
    "((o2-e2)/sqrt((n*p2*(1-p2))))^1 * sqrt(p2*(1-p2))\n",
    "((o3-e3)/sqrt((n*p3*(1-p3))))^1 * sqrt(p3*(1-p3))"
   ]
  },
  {
   "cell_type": "code",
   "execution_count": 642,
   "metadata": {},
   "outputs": [
    {
     "data": {
      "text/html": [
       "1022"
      ],
      "text/latex": [
       "1022"
      ],
      "text/markdown": [
       "1022"
      ],
      "text/plain": [
       "[1] 1022"
      ]
     },
     "metadata": {},
     "output_type": "display_data"
    }
   ],
   "source": [
    "((o1-e1)/sqrt((n*p1*(1-p1))) * sqrt(p1*(1-p1)))^2 +\n",
    "((o2-e2)/sqrt((n*p2*(1-p2))) * sqrt(p2*(1-p2)))^2 +\n",
    "((o3-e3)/sqrt((n*p3*(1-p3))) * sqrt(p3*(1-p3)))^2"
   ]
  },
  {
   "cell_type": "markdown",
   "metadata": {},
   "source": [
    "# Overall formula"
   ]
  },
  {
   "cell_type": "markdown",
   "metadata": {},
   "source": [
    "$$\n",
    "\\left(\\frac{o_1-e_1}{\\sqrt{\\sigma_1}}\\right)^2 +\n",
    "\\left(\n",
    "\\frac{\n",
    "\\left(\\frac{o_2-e_2}{\\sqrt{\\sigma_2}}\\right) - \n",
    "\\rho\n",
    "\\left(\\frac{o_1-e_1}{\\sqrt{\\sigma_1}}\\right)\n",
    "}{\n",
    "\\sqrt{1-\\rho^2}\n",
    "}\\right)^2\n",
    "$$"
   ]
  },
  {
   "cell_type": "markdown",
   "metadata": {},
   "source": [
    "# Numerator"
   ]
  },
  {
   "cell_type": "markdown",
   "metadata": {},
   "source": [
    "### Step 1"
   ]
  },
  {
   "cell_type": "markdown",
   "metadata": {},
   "source": [
    "$$\n",
    "\\left(\n",
    "\\left(\\frac{o_2-e_2}{\\sqrt{\\sigma_2}}\\right) - \n",
    "\\rho\n",
    "\\left(\\frac{o_1-e_1}{\\sqrt{\\sigma_1}}\\right)\n",
    "\\right)^2\n",
    "$$"
   ]
  },
  {
   "cell_type": "code",
   "execution_count": 4,
   "metadata": {},
   "outputs": [
    {
     "data": {
      "text/html": [
       "2085.81349206349"
      ],
      "text/latex": [
       "2085.81349206349"
      ],
      "text/markdown": [
       "2085.81349206349"
      ],
      "text/plain": [
       "[1] 2085.813"
      ]
     },
     "metadata": {},
     "output_type": "display_data"
    }
   ],
   "source": [
    "((o2-e2)/sqrt(var2)-rho*(o1-e1)/sqrt(var1))^2"
   ]
  },
  {
   "cell_type": "markdown",
   "metadata": {},
   "source": [
    "### Step 2"
   ]
  },
  {
   "cell_type": "markdown",
   "metadata": {},
   "source": [
    "$$\n",
    "\\left(\\frac{o_2-e_2}{\\sqrt{\\sigma_2}}\\right)^2 -\n",
    "2\\rho\n",
    "\\left(\\frac{o_1-e_1}{\\sqrt{\\sigma_1}}\\right)\n",
    "\\left(\\frac{o_2-e_2}{\\sqrt{\\sigma_2}}\\right) + \n",
    "\\rho^2\n",
    "\\left(\\frac{o_1-e_1}{\\sqrt{\\sigma_1}}\\right)^2\n",
    "$$"
   ]
  },
  {
   "cell_type": "code",
   "execution_count": 34,
   "metadata": {},
   "outputs": [
    {
     "data": {
      "text/html": [
       "2085.81349206349"
      ],
      "text/latex": [
       "2085.81349206349"
      ],
      "text/markdown": [
       "2085.81349206349"
      ],
      "text/plain": [
       "[1] 2085.813"
      ]
     },
     "metadata": {},
     "output_type": "display_data"
    }
   ],
   "source": [
    "((o2-e2)/sqrt(var2))^2 -\n",
    "2*rho*(o1-e1)/sqrt(var1)*(o2-e2)/sqrt(var2) +\n",
    "rho^2*((o1-e1)/sqrt(var1))^2"
   ]
  },
  {
   "cell_type": "markdown",
   "metadata": {},
   "source": [
    "### Step 3"
   ]
  },
  {
   "cell_type": "markdown",
   "metadata": {},
   "source": [
    "$$\n",
    "\\left(\\frac{o_2-e_2}{\\sqrt{\\sigma_2}}\\right)^2 -\n",
    "2\\left(\\frac{-np_1p_2}{\\sqrt{\\sigma_1}\\sqrt{\\sigma_2}}\\right)\n",
    "\\left(\\frac{o_1-e_1}{\\sqrt{\\sigma_1}}\\right)\n",
    "\\left(\\frac{o_2-e_2}{\\sqrt{\\sigma_2}}\\right) + \n",
    "\\left(\\frac{-np_1p_2}{\\sqrt{\\sigma_1}\\sqrt{\\sigma_2}}\\right)^2\n",
    "\\left(\\frac{o_1-e_1}{\\sqrt{\\sigma_1}}\\right)^2\n",
    "$$"
   ]
  },
  {
   "cell_type": "code",
   "execution_count": 35,
   "metadata": {},
   "outputs": [
    {
     "data": {
      "text/html": [
       "2085.81349206349"
      ],
      "text/latex": [
       "2085.81349206349"
      ],
      "text/markdown": [
       "2085.81349206349"
      ],
      "text/plain": [
       "[1] 2085.813"
      ]
     },
     "metadata": {},
     "output_type": "display_data"
    }
   ],
   "source": [
    "((o2-e2)/sqrt(var2))^2 -\n",
    "2*((-p1*p2*n) / (sqrt(var1)*sqrt(var2)))*(o1-e1)/sqrt(var1)*(o2-e2)/sqrt(var2) +\n",
    "((-p1*p2*n) / (sqrt(var1)*sqrt(var2)))^2*((o1-e1)/sqrt(var1))^2"
   ]
  },
  {
   "cell_type": "markdown",
   "metadata": {},
   "source": [
    "### Step 4"
   ]
  },
  {
   "cell_type": "markdown",
   "metadata": {},
   "source": [
    "$$\n",
    "\\frac{\\left(o_2-e_2\\right)^2}{\\sigma_2} +\n",
    "\\frac{2np_1p_2\\left(o_1-np_1\\right)\\left(o_2-np_2\\right)}{\\sigma_1\\sigma_2} +\n",
    "\\frac{n^2p_1^2p_2^2\\left(o_1-e_1\\right)^2}{\\sigma_1^2\\sigma_2}\n",
    "$$"
   ]
  },
  {
   "cell_type": "code",
   "execution_count": 36,
   "metadata": {},
   "outputs": [
    {
     "data": {
      "text/html": [
       "2085.81349206349"
      ],
      "text/latex": [
       "2085.81349206349"
      ],
      "text/markdown": [
       "2085.81349206349"
      ],
      "text/plain": [
       "[1] 2085.813"
      ]
     },
     "metadata": {},
     "output_type": "display_data"
    }
   ],
   "source": [
    "((o2-e2)^2/var2) + \n",
    "(2*n*p1*p2*(o1-n*p1)*(o2-n*p2)) / (var1*var2) +\n",
    "((n^2*p1^2*p2^2)*(o1-e1)^2) / (var1^2*var2)"
   ]
  },
  {
   "cell_type": "markdown",
   "metadata": {},
   "source": [
    "### Step 5"
   ]
  },
  {
   "cell_type": "markdown",
   "metadata": {},
   "source": [
    "$$\n",
    "\\frac{\n",
    "\\sigma_1^2\\left(o_2-e_2\\right)^2 + \n",
    "\\sigma_1.2np_1p_2\\left(o_1-np_1\\right)\\left(o_2-np_2\\right) + \n",
    "n^2p_1^2p_2^2\\left(o_1-e_1\\right)^2\n",
    "}{\\sigma_1^2\\sigma_2}\n",
    "$$"
   ]
  },
  {
   "cell_type": "code",
   "execution_count": 37,
   "metadata": {},
   "outputs": [
    {
     "data": {
      "text/html": [
       "2085.81349206349"
      ],
      "text/latex": [
       "2085.81349206349"
      ],
      "text/markdown": [
       "2085.81349206349"
      ],
      "text/plain": [
       "[1] 2085.813"
      ]
     },
     "metadata": {},
     "output_type": "display_data"
    }
   ],
   "source": [
    "(\n",
    "    var1^2*(o2-e2)^2 +\n",
    "    (var1*2*n*p1*p2*(o1-n*p1)*(o2-n*p2)) +\n",
    "    (n^2*p1^2*p2^2)*(o1-e1)^2\n",
    ") / \n",
    "(var1^2*var2)"
   ]
  },
  {
   "cell_type": "markdown",
   "metadata": {},
   "source": [
    "# Denominator"
   ]
  },
  {
   "cell_type": "markdown",
   "metadata": {},
   "source": [
    "### Step 1"
   ]
  },
  {
   "cell_type": "markdown",
   "metadata": {},
   "source": [
    "$$\n",
    "1-\\rho^2\n",
    "$$"
   ]
  },
  {
   "cell_type": "code",
   "execution_count": 40,
   "metadata": {},
   "outputs": [
    {
     "data": {
      "text/html": [
       "0.357142857142857"
      ],
      "text/latex": [
       "0.357142857142857"
      ],
      "text/markdown": [
       "0.357142857142857"
      ],
      "text/plain": [
       "[1] 0.3571429"
      ]
     },
     "metadata": {},
     "output_type": "display_data"
    }
   ],
   "source": [
    "1-rho^2"
   ]
  },
  {
   "cell_type": "markdown",
   "metadata": {},
   "source": [
    "### Step 2"
   ]
  },
  {
   "cell_type": "markdown",
   "metadata": {},
   "source": [
    "$$\n",
    "{1-\\left(\\frac{-np_1p_2}{\\sqrt{\\sigma_1}\\sqrt{\\sigma_2}}\\right)^2}\n",
    "$$"
   ]
  },
  {
   "cell_type": "code",
   "execution_count": 44,
   "metadata": {},
   "outputs": [
    {
     "data": {
      "text/html": [
       "0.357142857142857"
      ],
      "text/latex": [
       "0.357142857142857"
      ],
      "text/markdown": [
       "0.357142857142857"
      ],
      "text/plain": [
       "[1] 0.3571429"
      ]
     },
     "metadata": {},
     "output_type": "display_data"
    }
   ],
   "source": [
    "1-((-n*p1*p2)/(sqrt(var1)*sqrt(var2)))^2"
   ]
  },
  {
   "cell_type": "markdown",
   "metadata": {},
   "source": [
    "### Step 3"
   ]
  },
  {
   "cell_type": "markdown",
   "metadata": {},
   "source": [
    "$$\n",
    "{1-\\frac{n^2p_1^2p_2^2}{\\sigma_1\\sigma_2}}\n",
    "$$"
   ]
  },
  {
   "cell_type": "code",
   "execution_count": 46,
   "metadata": {},
   "outputs": [
    {
     "data": {
      "text/html": [
       "0.357142857142857"
      ],
      "text/latex": [
       "0.357142857142857"
      ],
      "text/markdown": [
       "0.357142857142857"
      ],
      "text/plain": [
       "[1] 0.3571429"
      ]
     },
     "metadata": {},
     "output_type": "display_data"
    }
   ],
   "source": [
    "1-((n^2*p1^2*p2^2)/(var1*var2))"
   ]
  },
  {
   "cell_type": "markdown",
   "metadata": {},
   "source": [
    "### Step 4"
   ]
  },
  {
   "cell_type": "markdown",
   "metadata": {},
   "source": [
    "$$\n",
    "\\frac{\\sigma_1^2\\sigma_2}{\\sigma_1^2\\sigma_2} -\n",
    "\\frac{n^2p_1^2p_2^2}{\\sigma_1\\sigma_2}\n",
    "\\\\ = \n",
    "\\frac{\\sigma_1^2\\sigma_2-\\sigma_1n^2p_1^2p_2^2}{\\sigma_1^2\\sigma_2}\n",
    "$$"
   ]
  },
  {
   "cell_type": "code",
   "execution_count": 50,
   "metadata": {},
   "outputs": [
    {
     "data": {
      "text/html": [
       "0.357142857142857"
      ],
      "text/latex": [
       "0.357142857142857"
      ],
      "text/markdown": [
       "0.357142857142857"
      ],
      "text/plain": [
       "[1] 0.3571429"
      ]
     },
     "metadata": {},
     "output_type": "display_data"
    }
   ],
   "source": [
    "(var1^2*var2-var1*n^2*p1^2*p2^2)/\n",
    "(var1^2*var2)"
   ]
  },
  {
   "cell_type": "markdown",
   "metadata": {},
   "source": [
    "# Combine numerator & denominator"
   ]
  },
  {
   "cell_type": "markdown",
   "metadata": {},
   "source": [
    "$$\n",
    "\\frac{\n",
    "\\sigma_1^2\\left(o_2-np_2\\right)^2 + \n",
    "\\sigma_1.2np_1p_2\\left(o_1-np_1\\right)\\left(o_2-np_2\\right) + \n",
    "n^2p_1^2p_2^2\\left(o_1-np_1\\right)^2\n",
    "}\n",
    "{\\sigma_1^2\\sigma_2-\\sigma_1n^2p_1^2p_2^2}\n",
    "$$"
   ]
  },
  {
   "cell_type": "code",
   "execution_count": 53,
   "metadata": {},
   "outputs": [
    {
     "data": {
      "text/html": [
       "5840.27777777778"
      ],
      "text/latex": [
       "5840.27777777778"
      ],
      "text/markdown": [
       "5840.27777777778"
      ],
      "text/plain": [
       "[1] 5840.278"
      ]
     },
     "metadata": {},
     "output_type": "display_data"
    }
   ],
   "source": [
    "(\n",
    "    var1^2*(o2-n*p2)^2 +\n",
    "    (var1*2*n*p1*p2*(o1-n*p1)*(o2-n*p2)) +\n",
    "    (n^2*p1^2*p2^2)*(o1-n*p1)^2\n",
    ") / \n",
    "(var1^2*var2-var1*n^2*p1^2*p2^2)"
   ]
  },
  {
   "cell_type": "markdown",
   "metadata": {},
   "source": [
    "# Return to overall formula"
   ]
  },
  {
   "cell_type": "markdown",
   "metadata": {},
   "source": [
    "### Step 1"
   ]
  },
  {
   "cell_type": "markdown",
   "metadata": {},
   "source": [
    "$$\n",
    "\\frac{\\left(o_1-e_1\\right)^2}{\\sigma_1} +\n",
    "\\left(\n",
    "\\frac{\n",
    "\\sigma_1^2\\left(o_2-np_2\\right)^2 + \n",
    "\\sigma_1.2np_1p_2\\left(o_1-np_1\\right)\\left(o_2-np_2\\right) + \n",
    "n^2p_1^2p_2^2\\left(o_1-np_1\\right)^2\n",
    "}\n",
    "{\\sigma_1^2\\sigma_2-\\sigma_1n^2p_1^2p_2^2}\n",
    "\\right)\n",
    "$$"
   ]
  },
  {
   "cell_type": "code",
   "execution_count": 55,
   "metadata": {},
   "outputs": [
    {
     "data": {
      "text/html": [
       "7175"
      ],
      "text/latex": [
       "7175"
      ],
      "text/markdown": [
       "7175"
      ],
      "text/plain": [
       "[1] 7175"
      ]
     },
     "metadata": {},
     "output_type": "display_data"
    }
   ],
   "source": [
    "(o1-e1)^2 / var1 + \n",
    "(\n",
    "    var1^2*(o2-n*p2)^2 +\n",
    "    (var1*2*n*p1*p2*(o1-n*p1)*(o2-n*p2)) +\n",
    "    (n^2*p1^2*p2^2)*(o1-n*p1)^2\n",
    ") / \n",
    "(var1^2*var2-var1*n^2*p1^2*p2^2)"
   ]
  },
  {
   "cell_type": "markdown",
   "metadata": {},
   "source": [
    "### Step 2"
   ]
  },
  {
   "cell_type": "markdown",
   "metadata": {},
   "source": [
    "$$\n",
    "\\frac{\\left(o_1-e_1\\right)^2}{np_1} -\n",
    "\\frac{(1-p_1)-1}{(1-p_1)} *\n",
    "\\frac{\\left(o_1-e_1\\right)^2}{(np_1)} +\n",
    "\\left(\n",
    "\\frac{\n",
    "\\sigma_1^2\\left(o_2-np_2\\right)^2 + \n",
    "\\sigma_1.2np_1p_2\\left(o_1-np_1\\right)\\left(o_2-np_2\\right) + \n",
    "n^2p_1^2p_2^2\\left(o_1-np_1\\right)^2\n",
    "}\n",
    "{\\sigma_1^2\\sigma_2-\\sigma_1n^2p_1^2p_2^2}\n",
    "\\right)\n",
    "$$"
   ]
  },
  {
   "cell_type": "code",
   "execution_count": 56,
   "metadata": {},
   "outputs": [
    {
     "data": {
      "text/html": [
       "7175"
      ],
      "text/latex": [
       "7175"
      ],
      "text/markdown": [
       "7175"
      ],
      "text/plain": [
       "[1] 7175"
      ]
     },
     "metadata": {},
     "output_type": "display_data"
    }
   ],
   "source": [
    "((o1-e1)^2 / (n*p1)) - (((1-p1)-1)/(1-p1))*((o1-e1)^2/(n*p1)) +\n",
    "(\n",
    "    var1^2*(o2-n*p2)^2 +\n",
    "    (var1*2*n*p1*p2*(o1-n*p1)*(o2-n*p2)) +\n",
    "    (n^2*p1^2*p2^2)*(o1-n*p1)^2\n",
    ") / \n",
    "(var1^2*var2-var1*n^2*p1^2*p2^2)"
   ]
  },
  {
   "cell_type": "markdown",
   "metadata": {},
   "source": [
    "### Step 3"
   ]
  },
  {
   "cell_type": "markdown",
   "metadata": {},
   "source": [
    "$$\n",
    "\\frac{\\left(o_1-e_1\\right)^2}{np_1} +\n",
    "\\frac{p_1\\left(o_1-e_1\\right)^2}{np_1(1-p_1)} +\n",
    "\\left(\n",
    "\\frac{\n",
    "\\sigma_1^2\\left(o_2-np_2\\right)^2 + \n",
    "\\sigma_1.2np_1p_2\\left(o_1-np_1\\right)\\left(o_2-np_2\\right) + \n",
    "n^2p_1^2p_2^2\\left(o_1-np_1\\right)^2\n",
    "}\n",
    "{\\sigma_1^2\\sigma_2-\\sigma_1n^2p_1^2p_2^2}\n",
    "\\right)\n",
    "$$"
   ]
  },
  {
   "cell_type": "code",
   "execution_count": 57,
   "metadata": {},
   "outputs": [
    {
     "data": {
      "text/html": [
       "7175"
      ],
      "text/latex": [
       "7175"
      ],
      "text/markdown": [
       "7175"
      ],
      "text/plain": [
       "[1] 7175"
      ]
     },
     "metadata": {},
     "output_type": "display_data"
    }
   ],
   "source": [
    "((o1-e1)^2 / (e1)) +\n",
    "(p1*(o1-e1)^2) / (var1) +\n",
    "(\n",
    "    var1^2*(o2-n*p2)^2 +\n",
    "    (var1*2*n*p1*p2*(o1-n*p1)*(o2-n*p2)) +\n",
    "    (n^2*p1^2*p2^2)*(o1-n*p1)^2\n",
    ") / \n",
    "(var1^2*var2-var1*n^2*p1^2*p2^2)"
   ]
  },
  {
   "cell_type": "markdown",
   "metadata": {},
   "source": [
    "### Step 4"
   ]
  },
  {
   "cell_type": "markdown",
   "metadata": {},
   "source": [
    "$$\n",
    "\\frac{\\left(o_1-e_1\\right)^2}{e_1} +\n",
    "\\frac{p_1\\left(o_1-e_1\\right)^2}{\\sigma_1} +\n",
    "\\left(\n",
    "\\frac{\n",
    "\\sigma_1^2\\left(o_2-np_2\\right)^2 + \n",
    "\\sigma_1.2np_1p_2\\left(o_1-np_1\\right)\\left(o_2-np_2\\right) + \n",
    "n^2p_1^2p_2^2\\left(o_1-np_1\\right)^2\n",
    "}\n",
    "{\\sigma_1^2\\sigma_2-\\sigma_1n^2p_1^2p_2^2}\n",
    "\\right)\n",
    "$$"
   ]
  },
  {
   "cell_type": "code",
   "execution_count": 58,
   "metadata": {},
   "outputs": [
    {
     "data": {
      "text/html": [
       "7175"
      ],
      "text/latex": [
       "7175"
      ],
      "text/markdown": [
       "7175"
      ],
      "text/plain": [
       "[1] 7175"
      ]
     },
     "metadata": {},
     "output_type": "display_data"
    }
   ],
   "source": [
    "((o1-e1)^2 / (e1)) +\n",
    "(p1*(o1-e1)^2) / (var1) +\n",
    "(\n",
    "    var1^2*(o2-n*p2)^2 +\n",
    "    (var1*2*n*p1*p2*(o1-n*p1)*(o2-n*p2)) +\n",
    "    (n^2*p1^2*p2^2)*(o1-n*p1)^2\n",
    ") / \n",
    "(var1^2*var2-var1*n^2*p1^2*p2^2)"
   ]
  },
  {
   "cell_type": "markdown",
   "metadata": {},
   "source": [
    "### Step 5"
   ]
  },
  {
   "cell_type": "markdown",
   "metadata": {},
   "source": [
    "$$\n",
    "\\frac{\\left(o_1-e_1\\right)^2}{e_1} +\n",
    "\\left(\n",
    "\\frac{\n",
    "p_1\\left(o_1-e_1\\right)^2\\left(\\sigma_1\\sigma_2-n^2p_1^2p_2^2\\right) +\n",
    "\\sigma_1^2\\left(o_2-np_2\\right)^2 + \n",
    "\\sigma_1.2np_1p_2\\left(o_1-np_1\\right)\\left(o_2-np_2\\right) + \n",
    "n^2p_1^2p_2^2\\left(o_1-np_1\\right)^2\n",
    "}\n",
    "{\\sigma_1^2\\sigma_2-\\sigma_1n^2p_1^2p_2^2}\n",
    "\\right)\n",
    "$$"
   ]
  },
  {
   "cell_type": "code",
   "execution_count": 62,
   "metadata": {},
   "outputs": [
    {
     "data": {
      "text/html": [
       "7175"
      ],
      "text/latex": [
       "7175"
      ],
      "text/markdown": [
       "7175"
      ],
      "text/plain": [
       "[1] 7175"
      ]
     },
     "metadata": {},
     "output_type": "display_data"
    }
   ],
   "source": [
    "((o1-e1)^2 / (e1)) +\n",
    "(\n",
    "    (p1*(o1-e1)^2) * (var1*var2-n^2*p1^2*p2^2) +\n",
    "    var1^2*(o2-n*p2)^2 +\n",
    "    (var1*2*n*p1*p2*(o1-n*p1)*(o2-n*p2)) +\n",
    "    (n^2*p1^2*p2^2)*(o1-n*p1)^2\n",
    ") / \n",
    "(var1^2*var2-var1*n^2*p1^2*p2^2)"
   ]
  },
  {
   "cell_type": "code",
   "execution_count": null,
   "metadata": {},
   "outputs": [],
   "source": []
  },
  {
   "cell_type": "code",
   "execution_count": 63,
   "metadata": {},
   "outputs": [
    {
     "data": {
      "text/html": [
       "43597440000"
      ],
      "text/latex": [
       "43597440000"
      ],
      "text/markdown": [
       "43597440000"
      ],
      "text/plain": [
       "[1] 43597440000"
      ]
     },
     "metadata": {},
     "output_type": "display_data"
    }
   ],
   "source": [
    "    var1^2*(o2-e2)^2 +\n",
    "    (var1*2*n*p1*p2*(o1-n*p1)*(o2-n*p2)) +\n",
    "    (n^2*p1^2*p2^2)*(o1-e1)^2"
   ]
  },
  {
   "cell_type": "code",
   "execution_count": 66,
   "metadata": {},
   "outputs": [
    {
     "data": {
      "text/html": [
       "43597440000"
      ],
      "text/latex": [
       "43597440000"
      ],
      "text/markdown": [
       "43597440000"
      ],
      "text/plain": [
       "[1] 43597440000"
      ]
     },
     "metadata": {},
     "output_type": "display_data"
    }
   ],
   "source": [
    "    (n*p1*(1-p1))^2*(o2-n*p2)^2 +\n",
    "    (n*p1*(1-p1)*2*n*p1*p2*(o1-n*p1)*(o2-n*p2)) +\n",
    "    (n^2*p1^2*p2^2)*(o1-n*p1)^2"
   ]
  },
  {
   "cell_type": "code",
   "execution_count": 68,
   "metadata": {},
   "outputs": [
    {
     "data": {
      "text/html": [
       "43597440000"
      ],
      "text/latex": [
       "43597440000"
      ],
      "text/markdown": [
       "43597440000"
      ],
      "text/plain": [
       "[1] 43597440000"
      ]
     },
     "metadata": {},
     "output_type": "display_data"
    }
   ],
   "source": [
    "n^4*p1^2*p2^2+2*n^3*p1^3*o2*p2+(-2)*n^3*p1^2*o2*p2-2*n^3*p1^2*p2^2*o1+n^2*p1^4*o2^2+(-2)*n^2*p1^3*o2^2-2*n^2*p1^3*o2*p2*o1+n^2*p1^2*o2^2+2*n^2*p1^2*o2*p2*o1+n^2*p1^2*p2^2*o1^2"
   ]
  },
  {
   "cell_type": "code",
   "execution_count": 69,
   "metadata": {},
   "outputs": [
    {
     "data": {
      "text/html": [
       "771431040000"
      ],
      "text/latex": [
       "771431040000"
      ],
      "text/markdown": [
       "771431040000"
      ],
      "text/plain": [
       "[1] 7.71431e+11"
      ]
     },
     "metadata": {},
     "output_type": "display_data"
    }
   ],
   "source": [
    "n^4 * p1^2 + 2 * n^3 * p1^3 * o2 * p2 + n^2 * p1^4 * o2^2 - 2 * n^2 * p1^3 * o2^2 - 2 * n^2 * p1^3 * o2 * p2 * o1 + n^2 * p1^2 * o2^2 + 2 * n^2 * p1^2 * o2 * p2 * o1 + n^2 * p1^2 * p2^2 * o1^2"
   ]
  },
  {
   "cell_type": "code",
   "execution_count": 70,
   "metadata": {},
   "outputs": [
    {
     "data": {
      "text/html": [
       "1516320000"
      ],
      "text/latex": [
       "1516320000"
      ],
      "text/markdown": [
       "1516320000"
      ],
      "text/plain": [
       "[1] 1516320000"
      ]
     },
     "metadata": {},
     "output_type": "display_data"
    }
   ],
   "source": [
    "n^2 * (p1 + p2)^2 * (n + o2)"
   ]
  },
  {
   "cell_type": "markdown",
   "metadata": {},
   "source": [
    "<font color='red'>\n",
    "    $$\n",
    "\n",
    "\\chi^2 = \n",
    "\\frac{\\left(o_1-e_1\\right)^2}{np_1} +\n",
    "\\frac{\\left(o_1-e_1\\right)^2}{n(1-p_1)} +\n",
    "\\left(\n",
    "\\frac{\n",
    "\\left(\\frac{o_3-e_3}{\\sqrt{\\sigma_3}}\\right) - \n",
    "\\rho_\\left({1,3}\\right)\n",
    "\\left(\\frac{o_1-e_1}{\\sqrt{\\sigma_1}}\\right)\n",
    "}{\n",
    "\\sqrt{1-\\rho_\\left({1,3}\\right)^2}\n",
    "}\\right)^2\n",
    "$$\n",
    "</font>"
   ]
  },
  {
   "cell_type": "markdown",
   "metadata": {},
   "source": [
    "$$\n",
    "\\chi^2 = \n",
    "\\frac{\\left(o_1-e_1\\right)^2}{np_1} +\n",
    "\\frac{\\left(o_1-e_1\\right)^2}{n(1-p_1)} +\n",
    "\\left(\n",
    "\\frac{\n",
    "\\left(\\frac{o_2-e_2}{\\sqrt{\\sigma_2}}\\right) - \n",
    "\\rho_\\left({1,2}\\right)\n",
    "\\left(\\frac{o_1-e_1}{\\sqrt{\\sigma_1}}\\right)\n",
    "}{\n",
    "\\sqrt{1-\\rho_\\left({1,2}\\right)^2}\n",
    "}\\right)^2\n",
    "$$"
   ]
  },
  {
   "cell_type": "markdown",
   "metadata": {},
   "source": [
    "$$\n",
    "\\chi^2 = \n",
    "\\frac{\\left(o_2-e_2\\right)^2}{np_2} +\n",
    "\\frac{\\left(o_2-e_2\\right)^2}{n(1-p_2)} +\n",
    "\\left(\n",
    "\\frac{\n",
    "\\left(\\frac{o_3-e_3}{\\sqrt{\\sigma_3}}\\right) - \n",
    "\\rho_\\left({2,3}\\right)\n",
    "\\left(\\frac{o_2-e_2}{\\sqrt{\\sigma_2}}\\right)\n",
    "}{\n",
    "\\sqrt{1-\\rho_\\left({2,3}\\right)^2}\n",
    "}\\right)^2\n",
    "$$"
   ]
  },
  {
   "cell_type": "markdown",
   "metadata": {},
   "source": [
    "$$\n",
    "\\chi^2 = \n",
    "\\frac{\\left(o_3-e_3\\right)^2}{np_3} +\n",
    "\\frac{\\left(o_3-e_3\\right)^2}{n(1-p_3)} +\n",
    "\\left(\n",
    "\\frac{\n",
    "\\left(\\frac{o_1-e_1}{\\sqrt{\\sigma_1}}\\right) - \n",
    "\\rho_\\left({1,3}\\right)\n",
    "\\left(\\frac{o_3-e_3}{\\sqrt{\\sigma_3}}\\right)\n",
    "}{\n",
    "\\sqrt{1-\\rho_\\left({1,3}\\right)^2}\n",
    "}\\right)^2\n",
    "$$"
   ]
  },
  {
   "cell_type": "markdown",
   "metadata": {},
   "source": [
    "$$\n",
    "\\chi^2 = \n",
    "\\frac{\\left(o_1-e_1\\right)^2}{np_1} +\n",
    "\\frac{\\left(o_2-e_2\\right)^2}{np_2} +\n",
    "\\frac{\\left(o_3-e_3\\right)^2}{np_3}\n",
    "$$"
   ]
  },
  {
   "cell_type": "code",
   "execution_count": null,
   "metadata": {},
   "outputs": [],
   "source": [
    "# 1 + 2 + 3\n",
    "# 2 + 2.5 + 1.5\n",
    "# 3 + 0.7 + 2.3"
   ]
  },
  {
   "cell_type": "code",
   "execution_count": 6,
   "metadata": {},
   "outputs": [],
   "source": [
    "a <- p1\n",
    "b <- p2\n",
    "c <- p3\n",
    "\n",
    "X <- o1\n",
    "Y <- o2\n",
    "Z <- o3"
   ]
  },
  {
   "cell_type": "code",
   "execution_count": 11,
   "metadata": {},
   "outputs": [
    {
     "data": {
      "text/html": [
       "1334.72222222222"
      ],
      "text/latex": [
       "1334.72222222222"
      ],
      "text/markdown": [
       "1334.72222222222"
      ],
      "text/plain": [
       "[1] 1334.722"
      ]
     },
     "metadata": {},
     "output_type": "display_data"
    },
    {
     "data": {
      "text/html": [
       "268.253968253968"
      ],
      "text/latex": [
       "268.253968253968"
      ],
      "text/markdown": [
       "268.253968253968"
      ],
      "text/plain": [
       "[1] 268.254"
      ]
     },
     "metadata": {},
     "output_type": "display_data"
    },
    {
     "data": {
      "text/html": [
       "7170.37037037037"
      ],
      "text/latex": [
       "7170.37037037037"
      ],
      "text/markdown": [
       "7170.37037037037"
      ],
      "text/plain": [
       "[1] 7170.37"
      ]
     },
     "metadata": {},
     "output_type": "display_data"
    }
   ],
   "source": [
    "(X-(n*a))^2 / (n*a*(1-a)) \n",
    "(Y-(n*b))^2 / (n*b*(1-b)) \n",
    "(Z-(n*c))^2 / (n*c*(1-c))"
   ]
  },
  {
   "cell_type": "code",
   "execution_count": 17,
   "metadata": {},
   "outputs": [
    {
     "data": {
      "text/html": [
       "1334.72222222222"
      ],
      "text/latex": [
       "1334.72222222222"
      ],
      "text/markdown": [
       "1334.72222222222"
      ],
      "text/plain": [
       "[1] 1334.722"
      ]
     },
     "metadata": {},
     "output_type": "display_data"
    },
    {
     "data": {
      "text/html": [
       "1334.72222222222"
      ],
      "text/latex": [
       "1334.72222222222"
      ],
      "text/markdown": [
       "1334.72222222222"
      ],
      "text/plain": [
       "[1] 1334.722"
      ]
     },
     "metadata": {},
     "output_type": "display_data"
    },
    {
     "data": {
      "text/html": [
       "7175"
      ],
      "text/latex": [
       "7175"
      ],
      "text/markdown": [
       "7175"
      ],
      "text/plain": [
       "[1] 7175"
      ]
     },
     "metadata": {},
     "output_type": "display_data"
    }
   ],
   "source": [
    "(X-(n*a))^2 / (n*a) +\n",
    "(X-(n*a))^2 / (n*(1-a)) \n",
    "\n",
    "(n-Y-Z-(n*(1-b-c)))^2 / (n*(1-b-c)*(1-(1-b-c))) \n",
    "\n",
    "(X-(n*a))^2 / (n*a) + (Y-(n*b))^2 / (n*b) + (Z-(n*c))^2 / (n*c)"
   ]
  },
  {
   "cell_type": "code",
   "execution_count": 18,
   "metadata": {},
   "outputs": [
    {
     "data": {
      "text/html": [
       "288"
      ],
      "text/latex": [
       "288"
      ],
      "text/markdown": [
       "288"
      ],
      "text/plain": [
       "[1] 288"
      ]
     },
     "metadata": {},
     "output_type": "display_data"
    },
    {
     "data": {
      "text/html": [
       "288"
      ],
      "text/latex": [
       "288"
      ],
      "text/markdown": [
       "288"
      ],
      "text/plain": [
       "[1] 288"
      ]
     },
     "metadata": {},
     "output_type": "display_data"
    }
   ],
   "source": [
    "(n*(1-b-c)*(1-(1-b-c))) \n",
    "(n * (1 - b - c) * (b + c))"
   ]
  },
  {
   "cell_type": "code",
   "execution_count": 19,
   "metadata": {},
   "outputs": [
    {
     "data": {
      "text/html": [
       "384400"
      ],
      "text/latex": [
       "384400"
      ],
      "text/markdown": [
       "384400"
      ],
      "text/plain": [
       "[1] 384400"
      ]
     },
     "metadata": {},
     "output_type": "display_data"
    },
    {
     "data": {
      "text/html": [
       "384400"
      ],
      "text/latex": [
       "384400"
      ],
      "text/markdown": [
       "384400"
      ],
      "text/plain": [
       "[1] 384400"
      ]
     },
     "metadata": {},
     "output_type": "display_data"
    }
   ],
   "source": [
    "(n - Y - Z - (n * (1 - b - c)))^2\n",
    "((-Y - Z + n * b + n * c))^2"
   ]
  },
  {
   "cell_type": "code",
   "execution_count": 20,
   "metadata": {},
   "outputs": [
    {
     "data": {
      "text/html": [
       "1334.72222222222"
      ],
      "text/latex": [
       "1334.72222222222"
      ],
      "text/markdown": [
       "1334.72222222222"
      ],
      "text/plain": [
       "[1] 1334.722"
      ]
     },
     "metadata": {},
     "output_type": "display_data"
    },
    {
     "data": {
      "text/html": [
       "1334.72222222222"
      ],
      "text/latex": [
       "1334.72222222222"
      ],
      "text/markdown": [
       "1334.72222222222"
      ],
      "text/plain": [
       "[1] 1334.722"
      ]
     },
     "metadata": {},
     "output_type": "display_data"
    }
   ],
   "source": [
    "(X - (n * a))^2 * (1 / (n * a) + 1 / (n * (1 - a))) \n",
    "(-Y - Z + n * b + n * c)^2 / (n * (1 - b - c) * (b + c))\n",
    "\n"
   ]
  },
  {
   "cell_type": "code",
   "execution_count": 21,
   "metadata": {},
   "outputs": [
    {
     "data": {
      "text/html": [
       "1334.72222222222"
      ],
      "text/latex": [
       "1334.72222222222"
      ],
      "text/markdown": [
       "1334.72222222222"
      ],
      "text/plain": [
       "[1] 1334.722"
      ]
     },
     "metadata": {},
     "output_type": "display_data"
    },
    {
     "data": {
      "text/html": [
       "1334.72222222222"
      ],
      "text/latex": [
       "1334.72222222222"
      ],
      "text/markdown": [
       "1334.72222222222"
      ],
      "text/plain": [
       "[1] 1334.722"
      ]
     },
     "metadata": {},
     "output_type": "display_data"
    }
   ],
   "source": [
    "(X - (n * a))^2 / (n * a) + (X - (n * a))^2 / (n * (1 - a)) \n",
    "(-Y - Z + n * b + n * c)^2 / (n * (1 - b - c) * (b + c))"
   ]
  },
  {
   "cell_type": "code",
   "execution_count": 22,
   "metadata": {},
   "outputs": [
    {
     "data": {
      "text/html": [
       "1334.72222222222"
      ],
      "text/latex": [
       "1334.72222222222"
      ],
      "text/markdown": [
       "1334.72222222222"
      ],
      "text/plain": [
       "[1] 1334.722"
      ]
     },
     "metadata": {},
     "output_type": "display_data"
    },
    {
     "data": {
      "text/html": [
       "1334.72222222222"
      ],
      "text/latex": [
       "1334.72222222222"
      ],
      "text/markdown": [
       "1334.72222222222"
      ],
      "text/plain": [
       "[1] 1334.722"
      ]
     },
     "metadata": {},
     "output_type": "display_data"
    }
   ],
   "source": [
    "(X - (n * a))^2 / (n * a) + (X - (n * a))^2 / (n * (1 - a)) \n",
    "(-Y - Z + n * b + n * c)^2 / (n * (1 - b - c) * (b + c))"
   ]
  },
  {
   "cell_type": "code",
   "execution_count": 27,
   "metadata": {},
   "outputs": [
    {
     "data": {
      "text/html": [
       "7175"
      ],
      "text/latex": [
       "7175"
      ],
      "text/markdown": [
       "7175"
      ],
      "text/plain": [
       "[1] 7175"
      ]
     },
     "metadata": {},
     "output_type": "display_data"
    },
    {
     "data": {
      "text/html": [
       "-21355263.8888889"
      ],
      "text/latex": [
       "-21355263.8888889"
      ],
      "text/markdown": [
       "-21355263.8888889"
      ],
      "text/plain": [
       "[1] -21355264"
      ]
     },
     "metadata": {},
     "output_type": "display_data"
    }
   ],
   "source": [
    "(X-(n*a))^2 / (n*a) + (Y-(n*b))^2 / (n*b) + (Z-(n*c))^2 / (n*c) \n",
    "n*(b+c)*(a+c)*(a+b) * ((n-Y-Z)/n)^2 / (a*b*c*(b+c)) - (X-(n*a))^2 * (b+c) / (a*b*c*(b+c))"
   ]
  },
  {
   "cell_type": "code",
   "execution_count": 29,
   "metadata": {},
   "outputs": [
    {
     "data": {
      "text/html": [
       "25"
      ],
      "text/latex": [
       "25"
      ],
      "text/markdown": [
       "25"
      ],
      "text/plain": [
       "[1] 25"
      ]
     },
     "metadata": {},
     "output_type": "display_data"
    },
    {
     "data": {
      "text/html": [
       "361"
      ],
      "text/latex": [
       "361"
      ],
      "text/markdown": [
       "361"
      ],
      "text/plain": [
       "[1] 361"
      ]
     },
     "metadata": {},
     "output_type": "display_data"
    }
   ],
   "source": [
    "(9-4)^2\n",
    "\n",
    "(9-(7*4))^2"
   ]
  },
  {
   "cell_type": "code",
   "execution_count": 30,
   "metadata": {},
   "outputs": [],
   "source": [
    "# (a-b)^2\n",
    "# a^2 -2ab + b^2\n",
    "\n",
    "# (a-cb)^2\n",
    "# a^2 -2abc + c^2b^2"
   ]
  },
  {
   "cell_type": "code",
   "execution_count": 31,
   "metadata": {},
   "outputs": [
    {
     "data": {
      "text/html": [
       "361"
      ],
      "text/latex": [
       "361"
      ],
      "text/markdown": [
       "361"
      ],
      "text/plain": [
       "[1] 361"
      ]
     },
     "metadata": {},
     "output_type": "display_data"
    }
   ],
   "source": [
    "25+(2*9*4)-(2*9*4*7)-4^2+(7^2*4^2)"
   ]
  },
  {
   "cell_type": "code",
   "execution_count": 35,
   "metadata": {},
   "outputs": [
    {
     "data": {
      "text/html": [
       "7175"
      ],
      "text/latex": [
       "7175"
      ],
      "text/markdown": [
       "7175"
      ],
      "text/plain": [
       "[1] 7175"
      ]
     },
     "metadata": {},
     "output_type": "display_data"
    },
    {
     "data": {
      "text/html": [
       "533.888888888889"
      ],
      "text/latex": [
       "533.888888888889"
      ],
      "text/markdown": [
       "533.888888888889"
      ],
      "text/plain": [
       "[1] 533.8889"
      ]
     },
     "metadata": {},
     "output_type": "display_data"
    },
    {
     "data": {
      "text/html": [
       "187.777777777778"
      ],
      "text/latex": [
       "187.777777777778"
      ],
      "text/markdown": [
       "187.777777777778"
      ],
      "text/plain": [
       "[1] 187.7778"
      ]
     },
     "metadata": {},
     "output_type": "display_data"
    },
    {
     "data": {
      "text/html": [
       "6453.33333333333"
      ],
      "text/latex": [
       "6453.33333333333"
      ],
      "text/markdown": [
       "6453.33333333333"
      ],
      "text/plain": [
       "[1] 6453.333"
      ]
     },
     "metadata": {},
     "output_type": "display_data"
    }
   ],
   "source": [
    "(o1-e1)^2/e1 + (o2-e2)^2/e2 + (o3-e3)^2/e3\n",
    "(o1-e1)^2/e1\n",
    "(o2-e2)^2/e2\n",
    "(o3-e3)^2/e3"
   ]
  },
  {
   "cell_type": "code",
   "execution_count": 40,
   "metadata": {},
   "outputs": [
    {
     "data": {
      "text/html": [
       "1334.72222222222"
      ],
      "text/latex": [
       "1334.72222222222"
      ],
      "text/markdown": [
       "1334.72222222222"
      ],
      "text/plain": [
       "[1] 1334.722"
      ]
     },
     "metadata": {},
     "output_type": "display_data"
    },
    {
     "data": {
      "text/html": [
       "1334.72222222222"
      ],
      "text/latex": [
       "1334.72222222222"
      ],
      "text/markdown": [
       "1334.72222222222"
      ],
      "text/plain": [
       "[1] 1334.722"
      ]
     },
     "metadata": {},
     "output_type": "display_data"
    }
   ],
   "source": [
    "(o1-e1)^2/(n*p1*(1-p1))\n",
    "(o1-e1)^2/(n*p1) + (o1-e1)^2/(n*(1-p1))"
   ]
  },
  {
   "cell_type": "code",
   "execution_count": 41,
   "metadata": {},
   "outputs": [
    {
     "data": {
      "text/html": [
       "0.400000000000001"
      ],
      "text/latex": [
       "0.400000000000001"
      ],
      "text/markdown": [
       "0.400000000000001"
      ],
      "text/plain": [
       "[1] 0.4"
      ]
     },
     "metadata": {},
     "output_type": "display_data"
    }
   ],
   "source": [
    "533.888888888889 / 1334.72222222222"
   ]
  },
  {
   "cell_type": "code",
   "execution_count": 42,
   "metadata": {},
   "outputs": [
    {
     "data": {
      "text/html": [
       "0.6"
      ],
      "text/latex": [
       "0.6"
      ],
      "text/markdown": [
       "0.6"
      ],
      "text/plain": [
       "[1] 0.6"
      ]
     },
     "metadata": {},
     "output_type": "display_data"
    }
   ],
   "source": [
    "p1"
   ]
  },
  {
   "cell_type": "code",
   "execution_count": 43,
   "metadata": {},
   "outputs": [],
   "source": [
    "# chi^2 = z1 * (1-p1) + z2 * (1-p2) + z3 * (1-p3)"
   ]
  },
  {
   "cell_type": "code",
   "execution_count": 52,
   "metadata": {},
   "outputs": [
    {
     "name": "stdout",
     "output_type": "stream",
     "text": [
      "[1] \"Za\"\n"
     ]
    },
    {
     "data": {
      "text/html": [
       "1334.72222222222"
      ],
      "text/latex": [
       "1334.72222222222"
      ],
      "text/markdown": [
       "1334.72222222222"
      ],
      "text/plain": [
       "[1] 1334.722"
      ]
     },
     "metadata": {},
     "output_type": "display_data"
    },
    {
     "name": "stdout",
     "output_type": "stream",
     "text": [
      "[1] \"Zb\"\n"
     ]
    },
    {
     "data": {
      "text/html": [
       "268.253968253968"
      ],
      "text/latex": [
       "268.253968253968"
      ],
      "text/markdown": [
       "268.253968253968"
      ],
      "text/plain": [
       "[1] 268.254"
      ]
     },
     "metadata": {},
     "output_type": "display_data"
    },
    {
     "name": "stdout",
     "output_type": "stream",
     "text": [
      "[1] \"Zc\"\n"
     ]
    },
    {
     "data": {
      "text/html": [
       "7170.37037037037"
      ],
      "text/latex": [
       "7170.37037037037"
      ],
      "text/markdown": [
       "7170.37037037037"
      ],
      "text/plain": [
       "[1] 7170.37"
      ]
     },
     "metadata": {},
     "output_type": "display_data"
    },
    {
     "name": "stdout",
     "output_type": "stream",
     "text": [
      "[1] \"Za.prime\"\n"
     ]
    },
    {
     "data": {
      "text/html": [
       "533.888888888889"
      ],
      "text/latex": [
       "533.888888888889"
      ],
      "text/markdown": [
       "533.888888888889"
      ],
      "text/plain": [
       "[1] 533.8889"
      ]
     },
     "metadata": {},
     "output_type": "display_data"
    },
    {
     "name": "stdout",
     "output_type": "stream",
     "text": [
      "[1] \"Zb.prime\"\n"
     ]
    },
    {
     "data": {
      "text/html": [
       "187.777777777778"
      ],
      "text/latex": [
       "187.777777777778"
      ],
      "text/markdown": [
       "187.777777777778"
      ],
      "text/plain": [
       "[1] 187.7778"
      ]
     },
     "metadata": {},
     "output_type": "display_data"
    },
    {
     "name": "stdout",
     "output_type": "stream",
     "text": [
      "[1] \"Zc.prime\"\n"
     ]
    },
    {
     "data": {
      "text/html": [
       "6453.33333333333"
      ],
      "text/latex": [
       "6453.33333333333"
      ],
      "text/markdown": [
       "6453.33333333333"
      ],
      "text/plain": [
       "[1] 6453.333"
      ]
     },
     "metadata": {},
     "output_type": "display_data"
    }
   ],
   "source": [
    "print('Za')\n",
    "Za <- (o1-e1)^2/(n*p1*(1-p1))\n",
    "Za\n",
    "print('Zb')\n",
    "Zb <- (o2-e2)^2/(n*p2*(1-p2))\n",
    "Zb\n",
    "print('Zc')\n",
    "Zc <- (o3-e3)^2/(n*p3*(1-p3))\n",
    "Zc\n",
    "print('Za.prime')\n",
    "Za.prime <- (o1-e1)^2/(n*p1)\n",
    "Za.prime\n",
    "print('Zb.prime')\n",
    "Zb.prime <- (o2-e2)^2/(n*p2)\n",
    "Zb.prime\n",
    "print('Zc.prime')\n",
    "Zc.prime <- (o3-e3)^2/(n*p3)\n",
    "Zc.prime"
   ]
  },
  {
   "cell_type": "code",
   "execution_count": 57,
   "metadata": {},
   "outputs": [
    {
     "data": {
      "text/html": [
       "5.3721817551162"
      ],
      "text/latex": [
       "5.3721817551162"
      ],
      "text/markdown": [
       "5.3721817551162"
      ],
      "text/plain": [
       "[1] 5.372182"
      ]
     },
     "metadata": {},
     "output_type": "display_data"
    },
    {
     "data": {
      "text/html": [
       "12.0874089490114"
      ],
      "text/latex": [
       "12.0874089490114"
      ],
      "text/markdown": [
       "12.0874089490114"
      ],
      "text/plain": [
       "[1] 12.08741"
      ]
     },
     "metadata": {},
     "output_type": "display_data"
    },
    {
     "data": {
      "text/html": [
       "0.4"
      ],
      "text/latex": [
       "0.4"
      ],
      "text/markdown": [
       "0.4"
      ],
      "text/plain": [
       "[1] 0.4"
      ]
     },
     "metadata": {},
     "output_type": "display_data"
    },
    {
     "data": {
      "text/html": [
       "0.7"
      ],
      "text/latex": [
       "0.7"
      ],
      "text/markdown": [
       "0.7"
      ],
      "text/plain": [
       "[1] 0.7"
      ]
     },
     "metadata": {},
     "output_type": "display_data"
    },
    {
     "data": {
      "text/html": [
       "0.9"
      ],
      "text/latex": [
       "0.9"
      ],
      "text/markdown": [
       "0.9"
      ],
      "text/plain": [
       "[1] 0.9"
      ]
     },
     "metadata": {},
     "output_type": "display_data"
    }
   ],
   "source": [
    "Zc/Za\n",
    "Zc.prime/Za.prime\n",
    "Za.prime/Za\n",
    "Zb.prime/Zb\n",
    "Zc.prime/Zc"
   ]
  },
  {
   "cell_type": "code",
   "execution_count": 54,
   "metadata": {},
   "outputs": [
    {
     "data": {
      "text/html": [
       "7175"
      ],
      "text/latex": [
       "7175"
      ],
      "text/markdown": [
       "7175"
      ],
      "text/plain": [
       "[1] 7175"
      ]
     },
     "metadata": {},
     "output_type": "display_data"
    },
    {
     "data": {
      "text/html": [
       "7175"
      ],
      "text/latex": [
       "7175"
      ],
      "text/markdown": [
       "7175"
      ],
      "text/plain": [
       "[1] 7175"
      ]
     },
     "metadata": {},
     "output_type": "display_data"
    }
   ],
   "source": [
    "Za*(1-p1)+Zb*(1-p2)+Zc*(1-p3)\n",
    "Za.prime + Zb.prime + Zc.prime"
   ]
  },
  {
   "cell_type": "code",
   "execution_count": 193,
   "metadata": {},
   "outputs": [
    {
     "data": {
      "image/png": "[encoded data removed]",
      "text/plain": [
       "plot without title"
      ]
     },
     "metadata": {
      "image/png": {
       "height": 420,
       "width": 420
      }
     },
     "output_type": "display_data"
    }
   ],
   "source": [
    "library(tidyverse)\n",
    "library(scales)\n",
    "library(stringr)\n",
    "\n",
    "get_circle_coords <- function(r = sqrt(7175)/2, ...) {\n",
    "  data_frame(theta = seq(0, 2 * pi, ...),\n",
    "             x     = cos(theta) * r,\n",
    "             y     = sin(theta) * r)\n",
    "}\n",
    "\n",
    "circ <- get_circle_coords(length.out = 200)\n",
    "p <- qplot(circ$x, circ$y, geom = \"path\")\n",
    "p"
   ]
  },
  {
   "cell_type": "code",
   "execution_count": 214,
   "metadata": {},
   "outputs": [],
   "source": [
    "#circ %>% tail()\n",
    "alpha.Za <- acos(x = sqrt(Za) / sqrt(7175))\n",
    "alpha.Za.x <- sqrt(7175)/2 - cos(alpha.Za) * sqrt(Za)\n",
    "alpha.Za.y <- sin(alpha.Za) * sqrt(Za)\n",
    "\n",
    "\n",
    "alpha.Zb <- acos(x = sqrt(Zb) / sqrt(7175))\n",
    "alpha.Zb.x <- sqrt(7175)/2 - cos(alpha.Zb) * sqrt(Zb)\n",
    "alpha.Zb.y <- sin(alpha.Zb) * sqrt(Zb)\n",
    "\n",
    "\n",
    "alpha.Zc <- acos(x = sqrt(Zc) / sqrt(7175))\n",
    "alpha.Zc.x <- sqrt(7175)/2 - cos(alpha.Zc) * sqrt(Zc)\n",
    "alpha.Zc.y <- sin(alpha.Zc) * sqrt(Zc)"
   ]
  },
  {
   "cell_type": "code",
   "execution_count": 223,
   "metadata": {},
   "outputs": [
    {
     "data": {
      "image/png": "[encoded data removed]",
      "text/plain": [
       "plot without title"
      ]
     },
     "metadata": {
      "image/png": {
       "height": 420,
       "width": 420
      }
     },
     "output_type": "display_data"
    }
   ],
   "source": [
    "p +\n",
    "geom_segment(aes(x = -sqrt(7175)/2, y = 0, xend = sqrt(7175)/2, yend = 0)) +\n",
    "geom_segment(aes(x = -sqrt(7175)/2, y = 0, xend = -sqrt(7175)/2, yend = -sqrt(7175))) +\n",
    "geom_segment(aes(x = -sqrt(7175)/2, y = -sqrt(7175), xend = sqrt(7175)/2, yend = -sqrt(7175))) +\n",
    "geom_segment(aes(x = sqrt(7175)/2, y = -sqrt(7175), xend = sqrt(7175)/2, yend = 0)) +\n",
    "\n",
    "geom_segment(aes(x = sqrt(7175)/2, y = 0, xend = alpha.Za.x, yend = alpha.Za.y, color = 'red'), size=1) +\n",
    "geom_segment(aes(x = -sqrt(7175)/2, y = 0, xend = alpha.Za.x, yend = alpha.Za.y)) +\n",
    "\n",
    "geom_segment(aes(x = sqrt(7175)/2, y = 0, xend = alpha.Zb.x, yend = alpha.Zb.y, color = 'blue'), size=1) +\n",
    "geom_segment(aes(x = -sqrt(7175)/2, y = 0, xend = alpha.Zb.x, yend = alpha.Zb.y)) +\n",
    "\n",
    "geom_segment(aes(x = sqrt(7175)/2, y = 0, xend = alpha.Zc.x, yend = alpha.Zc.y, color = 'green'), size=1) +\n",
    "geom_segment(aes(x = -sqrt(7175)/2, y = 0, xend = alpha.Zc.x, yend = alpha.Zc.y)) +\n",
    "coord_equal() + \n",
    "ggtitle(\"Diameter = sqrt(7175)\") "
   ]
  },
  {
   "cell_type": "code",
   "execution_count": 147,
   "metadata": {},
   "outputs": [
    {
     "data": {
      "text/html": [
       "62.6190945825501"
      ],
      "text/latex": [
       "62.6190945825501"
      ],
      "text/markdown": [
       "62.6190945825501"
      ],
      "text/plain": [
       "[1] 62.61909"
      ]
     },
     "metadata": {},
     "output_type": "display_data"
    },
    {
     "data": {
      "text/html": [
       "667.361111111111"
      ],
      "text/latex": [
       "667.361111111111"
      ],
      "text/markdown": [
       "667.361111111111"
      ],
      "text/plain": [
       "[1] 667.3611"
      ]
     },
     "metadata": {},
     "output_type": "display_data"
    },
    {
     "data": {
      "text/html": [
       "670.292476184684"
      ],
      "text/latex": [
       "670.292476184684"
      ],
      "text/markdown": [
       "670.292476184684"
      ],
      "text/plain": [
       "[1] 670.2925"
      ]
     },
     "metadata": {},
     "output_type": "display_data"
    }
   ],
   "source": [
    "x <- 7175/2-alpha.Za.x\n",
    "x\n",
    "y <- alpha.Za.y\n",
    "y\n",
    "sqrt(x^2+y^2)"
   ]
  },
  {
   "cell_type": "code",
   "execution_count": 146,
   "metadata": {},
   "outputs": [
    {
     "data": {
      "text/html": [
       "3716.35432832728"
      ],
      "text/latex": [
       "3716.35432832728"
      ],
      "text/markdown": [
       "3716.35432832728"
      ],
      "text/plain": [
       "[1] 3716.354"
      ]
     },
     "metadata": {},
     "output_type": "display_data"
    },
    {
     "data": {
      "text/html": [
       "3585.18518518518"
      ],
      "text/latex": [
       "3585.18518518518"
      ],
      "text/markdown": [
       "3585.18518518518"
      ],
      "text/plain": [
       "[1] 3585.185"
      ]
     },
     "metadata": {},
     "output_type": "display_data"
    },
    {
     "data": {
      "text/html": [
       "5163.80114893556"
      ],
      "text/latex": [
       "5163.80114893556"
      ],
      "text/markdown": [
       "5163.80114893556"
      ],
      "text/plain": [
       "[1] 5163.801"
      ]
     },
     "metadata": {},
     "output_type": "display_data"
    }
   ],
   "source": [
    "x <- alpha.Zc.x + 7175/2\n",
    "x\n",
    "y <- alpha.Zc.y\n",
    "y\n",
    "sqrt(x^2+y^2)"
   ]
  },
  {
   "cell_type": "code",
   "execution_count": 149,
   "metadata": {},
   "outputs": [
    {
     "data": {
      "text/html": [
       "3524.88090541745"
      ],
      "text/latex": [
       "3524.88090541745"
      ],
      "text/markdown": [
       "3524.88090541745"
      ],
      "text/plain": [
       "[1] 3524.881"
      ]
     },
     "metadata": {},
     "output_type": "display_data"
    }
   ],
   "source": [
    "alpha.Za.x"
   ]
  },
  {
   "cell_type": "code",
   "execution_count": 128,
   "metadata": {},
   "outputs": [
    {
     "data": {
      "text/html": [
       "3587.5"
      ],
      "text/latex": [
       "3587.5"
      ],
      "text/markdown": [
       "3587.5"
      ],
      "text/plain": [
       "[1] 3587.5"
      ]
     },
     "metadata": {},
     "output_type": "display_data"
    }
   ],
   "source": [
    "7175/2"
   ]
  },
  {
   "cell_type": "code",
   "execution_count": 129,
   "metadata": {},
   "outputs": [
    {
     "data": {
      "text/html": [
       "59.8957427535547"
      ],
      "text/latex": [
       "59.8957427535547"
      ],
      "text/markdown": [
       "59.8957427535547"
      ],
      "text/plain": [
       "[1] 59.89574"
      ]
     },
     "metadata": {},
     "output_type": "display_data"
    }
   ],
   "source": [
    "sqrt(7175/2)"
   ]
  },
  {
   "cell_type": "code",
   "execution_count": 132,
   "metadata": {},
   "outputs": [
    {
     "data": {
      "text/html": [
       "79.2791601414915"
      ],
      "text/latex": [
       "79.2791601414915"
      ],
      "text/markdown": [
       "79.2791601414915"
      ],
      "text/plain": [
       "[1] 79.27916"
      ]
     },
     "metadata": {},
     "output_type": "display_data"
    }
   ],
   "source": [
    "alpha.Za <- acos(x = Za / 7175)\n",
    "alpha.Za/2/pi*360\n",
    "alpha.Za.x <- cos(alpha.Za) * 7175/2\n",
    "alpha.Za.y <- sin(alpha.Za) * 7175/2"
   ]
  },
  {
   "cell_type": "code",
   "execution_count": 140,
   "metadata": {},
   "outputs": [
    {
     "data": {
      "text/html": [
       "0.186024003097174"
      ],
      "text/latex": [
       "0.186024003097174"
      ],
      "text/markdown": [
       "0.186024003097174"
      ],
      "text/plain": [
       "[1] 0.186024"
      ]
     },
     "metadata": {},
     "output_type": "display_data"
    }
   ],
   "source": [
    "cos(alpha.Za)"
   ]
  },
  {
   "cell_type": "code",
   "execution_count": 138,
   "metadata": {},
   "outputs": [
    {
     "data": {
      "text/html": [
       "1.38368237268488"
      ],
      "text/latex": [
       "1.38368237268488"
      ],
      "text/markdown": [
       "1.38368237268488"
      ],
      "text/plain": [
       "[1] 1.383682"
      ]
     },
     "metadata": {},
     "output_type": "display_data"
    },
    {
     "data": {
      "text/html": [
       "0.186024003097175"
      ],
      "text/latex": [
       "0.186024003097175"
      ],
      "text/markdown": [
       "0.186024003097175"
      ],
      "text/plain": [
       "[1] 0.186024"
      ]
     },
     "metadata": {},
     "output_type": "display_data"
    }
   ],
   "source": [
    "acos(Za/7175)\n",
    "cos(1.38368237268488)"
   ]
  },
  {
   "cell_type": "code",
   "execution_count": 141,
   "metadata": {},
   "outputs": [
    {
     "data": {
      "text/html": [
       "3524.88090541745"
      ],
      "text/latex": [
       "3524.88090541745"
      ],
      "text/markdown": [
       "3524.88090541745"
      ],
      "text/plain": [
       "[1] 3524.881"
      ]
     },
     "metadata": {},
     "output_type": "display_data"
    }
   ],
   "source": [
    "alpha.Za.y"
   ]
  },
  {
   "cell_type": "code",
   "execution_count": 155,
   "metadata": {},
   "outputs": [
    {
     "data": {
      "text/html": [
       "1311.42491293309"
      ],
      "text/latex": [
       "1311.42491293309"
      ],
      "text/markdown": [
       "1311.42491293309"
      ],
      "text/plain": [
       "[1] 1311.425"
      ]
     },
     "metadata": {},
     "output_type": "display_data"
    }
   ],
   "source": [
    "sin(alpha.Za) * Za"
   ]
  },
  {
   "cell_type": "code",
   "execution_count": 170,
   "metadata": {},
   "outputs": [
    {
     "data": {
      "text/html": [
       "248.290370800533"
      ],
      "text/latex": [
       "248.290370800533"
      ],
      "text/markdown": [
       "248.290370800533"
      ],
      "text/plain": [
       "[1] 248.2904"
      ]
     },
     "metadata": {},
     "output_type": "display_data"
    },
    {
     "data": {
      "text/html": [
       "1311.42491293309"
      ],
      "text/latex": [
       "1311.42491293309"
      ],
      "text/markdown": [
       "1311.42491293309"
      ],
      "text/plain": [
       "[1] 1311.425"
      ]
     },
     "metadata": {},
     "output_type": "display_data"
    }
   ],
   "source": [
    "alpha.Za.x\n",
    "alpha.Za.y"
   ]
  },
  {
   "cell_type": "code",
   "execution_count": 158,
   "metadata": {},
   "outputs": [
    {
     "data": {
      "text/html": [
       "3524.88090541745"
      ],
      "text/latex": [
       "3524.88090541745"
      ],
      "text/markdown": [
       "3524.88090541745"
      ],
      "text/plain": [
       "[1] 3524.881"
      ]
     },
     "metadata": {},
     "output_type": "display_data"
    }
   ],
   "source": [
    "sin(alpha.Za) * 7175/2"
   ]
  },
  {
   "cell_type": "code",
   "execution_count": 159,
   "metadata": {},
   "outputs": [
    {
     "data": {
      "text/html": [
       "1334.72222222222"
      ],
      "text/latex": [
       "1334.72222222222"
      ],
      "text/markdown": [
       "1334.72222222222"
      ],
      "text/plain": [
       "[1] 1334.722"
      ]
     },
     "metadata": {},
     "output_type": "display_data"
    }
   ],
   "source": [
    "Za"
   ]
  },
  {
   "cell_type": "code",
   "execution_count": 179,
   "metadata": {},
   "outputs": [
    {
     "data": {
      "text/html": [
       "3.57071421427143"
      ],
      "text/latex": [
       "3.57071421427143"
      ],
      "text/markdown": [
       "3.57071421427143"
      ],
      "text/plain": [
       "[1] 3.570714"
      ]
     },
     "metadata": {},
     "output_type": "display_data"
    }
   ],
   "source": [
    "sqrt(5^2-3.5^2)"
   ]
  },
  {
   "cell_type": "code",
   "execution_count": 196,
   "metadata": {},
   "outputs": [
    {
     "data": {
      "text/html": [
       "7049.7618108349"
      ],
      "text/latex": [
       "7049.7618108349"
      ],
      "text/markdown": [
       "7049.7618108349"
      ],
      "text/plain": [
       "[1] 7049.762"
      ]
     },
     "metadata": {},
     "output_type": "display_data"
    },
    {
     "data": {
      "text/html": [
       "0.189328697626473"
      ],
      "text/latex": [
       "0.189328697626473"
      ],
      "text/markdown": [
       "0.189328697626473"
      ],
      "text/plain": [
       "[1] 0.1893287"
      ]
     },
     "metadata": {},
     "output_type": "display_data"
    }
   ],
   "source": [
    "sqrt(7175^2-1334.72222222222^2)\n",
    "1334.72222222222/7049.7618108349"
   ]
  },
  {
   "cell_type": "code",
   "execution_count": 225,
   "metadata": {},
   "outputs": [
    {
     "data": {
      "text/html": [
       "1437.53982768229"
      ],
      "text/latex": [
       "1437.53982768229"
      ],
      "text/markdown": [
       "1437.53982768229"
      ],
      "text/plain": [
       "[1] 1437.54"
      ]
     },
     "metadata": {},
     "output_type": "display_data"
    }
   ],
   "source": [
    "sqrt(Za^2+Za.prime^2)"
   ]
  },
  {
   "cell_type": "code",
   "execution_count": 251,
   "metadata": {},
   "outputs": [
    {
     "data": {
      "text/html": [
       "0.36533850361305"
      ],
      "text/latex": [
       "0.36533850361305"
      ],
      "text/markdown": [
       "0.36533850361305"
      ],
      "text/plain": [
       "[1] 0.3653385"
      ]
     },
     "metadata": {},
     "output_type": "display_data"
    },
    {
     "data": {
      "text/html": [
       "0.764217101207358"
      ],
      "text/latex": [
       "0.764217101207358"
      ],
      "text/markdown": [
       "0.764217101207358"
      ],
      "text/plain": [
       "[1] 0.7642171"
      ]
     },
     "metadata": {},
     "output_type": "display_data"
    },
    {
     "data": {
      "text/html": [
       "7175"
      ],
      "text/latex": [
       "7175"
      ],
      "text/markdown": [
       "7175"
      ],
      "text/plain": [
       "[1] 7175"
      ]
     },
     "metadata": {},
     "output_type": "display_data"
    },
    {
     "data": {
      "text/html": [
       "0.231060357674978"
      ],
      "text/latex": [
       "0.231060357674978"
      ],
      "text/markdown": [
       "0.231060357674978"
      ],
      "text/plain": [
       "[1] 0.2310604"
      ]
     },
     "metadata": {},
     "output_type": "display_data"
    }
   ],
   "source": [
    "length <- sqrt(Za)\n",
    "length/100\n",
    "length.other <- sqrt(7175-length^2)\n",
    "length.other/100\n",
    "\n",
    "length^2+length.other^2\n",
    "\n",
    "sqrt(Za*(1-p1))/100"
   ]
  },
  {
   "cell_type": "code",
   "execution_count": 263,
   "metadata": {},
   "outputs": [
    {
     "data": {
      "text/html": [
       "1334.72222222222"
      ],
      "text/latex": [
       "1334.72222222222"
      ],
      "text/markdown": [
       "1334.72222222222"
      ],
      "text/plain": [
       "[1] 1334.722"
      ]
     },
     "metadata": {},
     "output_type": "display_data"
    },
    {
     "data": {
      "text/html": [
       "268.253968253968"
      ],
      "text/latex": [
       "268.253968253968"
      ],
      "text/markdown": [
       "268.253968253968"
      ],
      "text/plain": [
       "[1] 268.254"
      ]
     },
     "metadata": {},
     "output_type": "display_data"
    }
   ],
   "source": [
    "Za\n",
    "Zb"
   ]
  },
  {
   "cell_type": "code",
   "execution_count": 264,
   "metadata": {},
   "outputs": [
    {
     "data": {
      "text/html": [
       "4.97559171597633"
      ],
      "text/latex": [
       "4.97559171597633"
      ],
      "text/markdown": [
       "4.97559171597633"
      ],
      "text/plain": [
       "[1] 4.975592"
      ]
     },
     "metadata": {},
     "output_type": "display_data"
    }
   ],
   "source": [
    "Za/Zb"
   ]
  },
  {
   "cell_type": "code",
   "execution_count": 265,
   "metadata": {},
   "outputs": [
    {
     "data": {
      "text/html": [
       "1334.72222222222"
      ],
      "text/latex": [
       "1334.72222222222"
      ],
      "text/markdown": [
       "1334.72222222222"
      ],
      "text/plain": [
       "[1] 1334.722"
      ]
     },
     "metadata": {},
     "output_type": "display_data"
    },
    {
     "data": {
      "text/html": [
       "1334.72222222222"
      ],
      "text/latex": [
       "1334.72222222222"
      ],
      "text/markdown": [
       "1334.72222222222"
      ],
      "text/plain": [
       "[1] 1334.722"
      ]
     },
     "metadata": {},
     "output_type": "display_data"
    }
   ],
   "source": [
    "Za\n",
    "(1-p1)*Za + p1*Za\n"
   ]
  },
  {
   "cell_type": "code",
   "execution_count": 269,
   "metadata": {},
   "outputs": [
    {
     "data": {
      "text/html": [
       "51480625"
      ],
      "text/latex": [
       "51480625"
      ],
      "text/markdown": [
       "51480625"
      ],
      "text/plain": [
       "[1] 51480625"
      ]
     },
     "metadata": {},
     "output_type": "display_data"
    }
   ],
   "source": [
    "(1-p1)*Za^2  + 7175^2 - (1-p1)*Za^2"
   ]
  },
  {
   "cell_type": "code",
   "execution_count": 268,
   "metadata": {},
   "outputs": [
    {
     "data": {
      "text/html": [
       "51480625"
      ],
      "text/latex": [
       "51480625"
      ],
      "text/markdown": [
       "51480625"
      ],
      "text/plain": [
       "[1] 51480625"
      ]
     },
     "metadata": {},
     "output_type": "display_data"
    }
   ],
   "source": [
    "7175^2"
   ]
  },
  {
   "cell_type": "code",
   "execution_count": 278,
   "metadata": {},
   "outputs": [
    {
     "data": {
      "text/html": [
       "59499554.0788331"
      ],
      "text/latex": [
       "59499554.0788331"
      ],
      "text/markdown": [
       "59499554.0788331"
      ],
      "text/plain": [
       "[1] 59499554"
      ]
     },
     "metadata": {},
     "output_type": "display_data"
    }
   ],
   "source": [
    "Za^2+p1*Za^2 +\n",
    "Zb^2+p2*Zb^2 +\n",
    "Zc^2+p3*Zc^2"
   ]
  },
  {
   "cell_type": "code",
   "execution_count": 279,
   "metadata": {},
   "outputs": [
    {
     "data": {
      "text/html": [
       "7175"
      ],
      "text/latex": [
       "7175"
      ],
      "text/markdown": [
       "7175"
      ],
      "text/plain": [
       "[1] 7175"
      ]
     },
     "metadata": {},
     "output_type": "display_data"
    }
   ],
   "source": [
    "(1-p1)*Za + (1-p2)*Zb+ (1-p3)*Zc"
   ]
  },
  {
   "cell_type": "code",
   "execution_count": 285,
   "metadata": {},
   "outputs": [
    {
     "data": {
      "text/html": [
       "7175"
      ],
      "text/latex": [
       "7175"
      ],
      "text/markdown": [
       "7175"
      ],
      "text/plain": [
       "[1] 7175"
      ]
     },
     "metadata": {},
     "output_type": "display_data"
    },
    {
     "data": {
      "text/html": [
       "7175"
      ],
      "text/latex": [
       "7175"
      ],
      "text/markdown": [
       "7175"
      ],
      "text/plain": [
       "[1] 7175"
      ]
     },
     "metadata": {},
     "output_type": "display_data"
    },
    {
     "data": {
      "text/html": [
       "7175"
      ],
      "text/latex": [
       "7175"
      ],
      "text/markdown": [
       "7175"
      ],
      "text/plain": [
       "[1] 7175"
      ]
     },
     "metadata": {},
     "output_type": "display_data"
    },
    {
     "data": {
      "text/html": [
       "7175"
      ],
      "text/latex": [
       "7175"
      ],
      "text/markdown": [
       "7175"
      ],
      "text/plain": [
       "[1] 7175"
      ]
     },
     "metadata": {},
     "output_type": "display_data"
    }
   ],
   "source": [
    "(1-p1)*Za + (p1)*Za + (7175 - Za)\n",
    "(1-p1)*Za + (p1)*Za + (7175 - (1-p1)*Za - (p1)*Za)\n",
    "(1-p1)*Za + (7175 - (1-p1)*Za)\n",
    "(1-p1)*Za + (7175 -Za + p1*Za)"
   ]
  },
  {
   "cell_type": "code",
   "execution_count": 286,
   "metadata": {},
   "outputs": [
    {
     "data": {
      "text/html": [
       "-7175"
      ],
      "text/latex": [
       "-7175"
      ],
      "text/markdown": [
       "-7175"
      ],
      "text/plain": [
       "[1] -7175"
      ]
     },
     "metadata": {},
     "output_type": "display_data"
    }
   ],
   "source": [
    "-Za + p1*Za +\n",
    "-Zb + p2*Zb +\n",
    "-Zc + p3*Zc"
   ]
  },
  {
   "cell_type": "code",
   "execution_count": 295,
   "metadata": {},
   "outputs": [
    {
     "data": {
      "text/html": [
       "84.6780394811451"
      ],
      "text/latex": [
       "84.6780394811451"
      ],
      "text/markdown": [
       "84.6780394811451"
      ],
      "text/plain": [
       "[1] 84.67804"
      ]
     },
     "metadata": {},
     "output_type": "display_data"
    },
    {
     "data": {
      "text/html": [
       "1.45556471643649"
      ],
      "text/latex": [
       "1.45556471643649"
      ],
      "text/markdown": [
       "1.45556471643649"
      ],
      "text/plain": [
       "[1] 1.455565"
      ]
     },
     "metadata": {},
     "output_type": "display_data"
    }
   ],
   "source": [
    "a <- sqrt(Zc)\n",
    "a\n",
    "h <- sqrt(7175)\n",
    "acos(a/h) * 180 / pi"
   ]
  },
  {
   "cell_type": "code",
   "execution_count": 296,
   "metadata": {},
   "outputs": [
    {
     "data": {
      "text/html": [
       "144.8"
      ],
      "text/latex": [
       "144.8"
      ],
      "text/markdown": [
       "144.8"
      ],
      "text/plain": [
       "[1] 144.8"
      ]
     },
     "metadata": {},
     "output_type": "display_data"
    }
   ],
   "source": [
    "64.4+78.9+1.5"
   ]
  },
  {
   "cell_type": "code",
   "execution_count": 298,
   "metadata": {},
   "outputs": [
    {
     "data": {
      "text/html": [
       "144.756339515947"
      ],
      "text/latex": [
       "144.756339515947"
      ],
      "text/markdown": [
       "144.756339515947"
      ],
      "text/plain": [
       "[1] 144.7563"
      ]
     },
     "metadata": {},
     "output_type": "display_data"
    }
   ],
   "source": [
    "acos(sqrt(Za)/h) * 180 / pi +\n",
    "acos(sqrt(Zb)/h) * 180 / pi +\n",
    "acos(sqrt(Zc)/h) * 180 / pi"
   ]
  },
  {
   "cell_type": "code",
   "execution_count": 304,
   "metadata": {},
   "outputs": [],
   "source": [
    "l.a <- sqrt(Za)\n",
    "l.h <- sqrt(7175)\n",
    "l.o <- sqrt(l.h^2-l.a^2)\n",
    "\n",
    "triangle.area <- (l.a * l.o) / 2\n",
    "triangle.height <- 2 * triangle.area / l.h"
   ]
  },
  {
   "cell_type": "code",
   "execution_count": 306,
   "metadata": {},
   "outputs": [
    {
     "data": {
      "text/html": [
       "1395.98966095299"
      ],
      "text/latex": [
       "1395.98966095299"
      ],
      "text/markdown": [
       "1395.98966095299"
      ],
      "text/plain": [
       "[1] 1395.99"
      ]
     },
     "metadata": {},
     "output_type": "display_data"
    },
    {
     "data": {
      "text/html": [
       "32.9610656900181"
      ],
      "text/latex": [
       "32.9610656900181"
      ],
      "text/markdown": [
       "32.9610656900181"
      ],
      "text/plain": [
       "[1] 32.96107"
      ]
     },
     "metadata": {},
     "output_type": "display_data"
    },
    {
     "data": {
      "text/html": [
       "1395.98966095299"
      ],
      "text/latex": [
       "1395.98966095299"
      ],
      "text/markdown": [
       "1395.98966095299"
      ],
      "text/plain": [
       "[1] 1395.99"
      ]
     },
     "metadata": {},
     "output_type": "display_data"
    }
   ],
   "source": []
  },
  {
   "cell_type": "code",
   "execution_count": 309,
   "metadata": {},
   "outputs": [
    {
     "name": "stdout",
     "output_type": "stream",
     "text": [
      "[1] \"Za\"\n"
     ]
    },
    {
     "data": {
      "text/html": [
       "36.533850361305"
      ],
      "text/latex": [
       "36.533850361305"
      ],
      "text/markdown": [
       "36.533850361305"
      ],
      "text/plain": [
       "[1] 36.53385"
      ]
     },
     "metadata": {},
     "output_type": "display_data"
    },
    {
     "name": "stdout",
     "output_type": "stream",
     "text": [
      "[1] \"Zb\"\n"
     ]
    },
    {
     "data": {
      "text/html": [
       "16.3784604970665"
      ],
      "text/latex": [
       "16.3784604970665"
      ],
      "text/markdown": [
       "16.3784604970665"
      ],
      "text/plain": [
       "[1] 16.37846"
      ]
     },
     "metadata": {},
     "output_type": "display_data"
    },
    {
     "name": "stdout",
     "output_type": "stream",
     "text": [
      "[1] \"Zc\"\n"
     ]
    },
    {
     "data": {
      "text/html": [
       "84.6780394811451"
      ],
      "text/latex": [
       "84.6780394811451"
      ],
      "text/markdown": [
       "84.6780394811451"
      ],
      "text/plain": [
       "[1] 84.67804"
      ]
     },
     "metadata": {},
     "output_type": "display_data"
    },
    {
     "name": "stdout",
     "output_type": "stream",
     "text": [
      "[1] \"Za.prime\"\n"
     ]
    },
    {
     "data": {
      "text/html": [
       "76.4217101207358"
      ],
      "text/latex": [
       "76.4217101207358"
      ],
      "text/markdown": [
       "76.4217101207358"
      ],
      "text/plain": [
       "[1] 76.42171"
      ]
     },
     "metadata": {},
     "output_type": "display_data"
    },
    {
     "name": "stdout",
     "output_type": "stream",
     "text": [
      "[1] \"Zb.prime\"\n"
     ]
    },
    {
     "data": {
      "text/html": [
       "83.1068350483041"
      ],
      "text/latex": [
       "83.1068350483041"
      ],
      "text/markdown": [
       "83.1068350483041"
      ],
      "text/plain": [
       "[1] 83.10684"
      ]
     },
     "metadata": {},
     "output_type": "display_data"
    },
    {
     "name": "stdout",
     "output_type": "stream",
     "text": [
      "[1] \"Zc.prime\"\n"
     ]
    },
    {
     "data": {
      "text/html": [
       "2.15165741455987"
      ],
      "text/latex": [
       "2.15165741455987"
      ],
      "text/markdown": [
       "2.15165741455987"
      ],
      "text/plain": [
       "[1] 2.151657"
      ]
     },
     "metadata": {},
     "output_type": "display_data"
    }
   ],
   "source": [
    "print('Za')\n",
    "Za <- sqrt((o1-e1)^2/(n*p1*(1-p1)))\n",
    "Za\n",
    "print('Zb')\n",
    "Zb <- sqrt((o2-e2)^2/(n*p2*(1-p2)))\n",
    "Zb\n",
    "print('Zc')\n",
    "Zc <- sqrt((o3-e3)^2/(n*p3*(1-p3)))\n",
    "Zc\n",
    "print('Za.prime')\n",
    "Za.prime <- sqrt(7175-Za^2)\n",
    "Za.prime\n",
    "print('Zb.prime')\n",
    "Zb.prime <- sqrt(7175-Zb^2)\n",
    "Zb.prime\n",
    "print('Zc.prime')\n",
    "Zc.prime <- sqrt(7175-Zc^2)\n",
    "Zc.prime"
   ]
  },
  {
   "cell_type": "code",
   "execution_count": 314,
   "metadata": {},
   "outputs": [
    {
     "data": {
      "text/html": [
       "7175"
      ],
      "text/latex": [
       "7175"
      ],
      "text/markdown": [
       "7175"
      ],
      "text/plain": [
       "[1] 7175"
      ]
     },
     "metadata": {},
     "output_type": "display_data"
    },
    {
     "data": {
      "text/html": [
       "7175"
      ],
      "text/latex": [
       "7175"
      ],
      "text/markdown": [
       "7175"
      ],
      "text/plain": [
       "[1] 7175"
      ]
     },
     "metadata": {},
     "output_type": "display_data"
    },
    {
     "data": {
      "text/html": [
       "7175"
      ],
      "text/latex": [
       "7175"
      ],
      "text/markdown": [
       "7175"
      ],
      "text/plain": [
       "[1] 7175"
      ]
     },
     "metadata": {},
     "output_type": "display_data"
    }
   ],
   "source": [
    "Za^2+Za.prime^2\n",
    "Zb^2+Zb.prime^2\n",
    "Zc^2+Zc.prime^2"
   ]
  },
  {
   "cell_type": "code",
   "execution_count": 324,
   "metadata": {},
   "outputs": [
    {
     "data": {
      "text/html": [
       "7175"
      ],
      "text/latex": [
       "7175"
      ],
      "text/markdown": [
       "7175"
      ],
      "text/plain": [
       "[1] 7175"
      ]
     },
     "metadata": {},
     "output_type": "display_data"
    },
    {
     "data": {
      "text/html": [
       "7175"
      ],
      "text/latex": [
       "7175"
      ],
      "text/markdown": [
       "7175"
      ],
      "text/plain": [
       "[1] 7175"
      ]
     },
     "metadata": {},
     "output_type": "display_data"
    },
    {
     "data": {
      "text/html": [
       "7175"
      ],
      "text/latex": [
       "7175"
      ],
      "text/markdown": [
       "7175"
      ],
      "text/plain": [
       "[1] 7175"
      ]
     },
     "metadata": {},
     "output_type": "display_data"
    },
    {
     "data": {
      "text/html": [
       "2870"
      ],
      "text/latex": [
       "2870"
      ],
      "text/markdown": [
       "2870"
      ],
      "text/plain": [
       "[1] 2870"
      ]
     },
     "metadata": {},
     "output_type": "display_data"
    },
    {
     "data": {
      "text/html": [
       "5022.5"
      ],
      "text/latex": [
       "5022.5"
      ],
      "text/markdown": [
       "5022.5"
      ],
      "text/plain": [
       "[1] 5022.5"
      ]
     },
     "metadata": {},
     "output_type": "display_data"
    },
    {
     "data": {
      "text/html": [
       "6457.5"
      ],
      "text/latex": [
       "6457.5"
      ],
      "text/markdown": [
       "6457.5"
      ],
      "text/plain": [
       "[1] 6457.5"
      ]
     },
     "metadata": {},
     "output_type": "display_data"
    }
   ],
   "source": [
    "Za^2*(1-p1) + Za^2*p1 + Za.prime^2   #1\n",
    "Zb^2*(1-p2) + Zb^2*p2 + Zb.prime^2   #2\n",
    "Zc^2*(1-p3) + Zc^2*p3 + Zc.prime^2   #3\n",
    "\n",
    "Za^2*(1-p1) + Za.prime^2*(1-p1)   #4\n",
    "Zb^2*(1-p2) + Zb.prime^2*(1-p2)   #5\n",
    "Zc^2*(1-p3) + Zc.prime^2*(1-p3)   #6"
   ]
  },
  {
   "cell_type": "code",
   "execution_count": 331,
   "metadata": {},
   "outputs": [
    {
     "data": {
      "text/html": [
       "7175"
      ],
      "text/latex": [
       "7175"
      ],
      "text/markdown": [
       "7175"
      ],
      "text/plain": [
       "[1] 7175"
      ]
     },
     "metadata": {},
     "output_type": "display_data"
    }
   ],
   "source": [
    "Za^2*(1-p1) + Za^2*p1 + Za.prime^2   +\n",
    "Zb^2*(1-p2) + Zb^2*p2 + Zb.prime^2   +\n",
    "Zc^2*(1-p3) + Zc^2*p3 + Zc.prime^2   -\n",
    "\n",
    "(Za^2*(1-p1) + Za.prime^2*(1-p1))   -\n",
    "(Zb^2*(1-p2) + Zb.prime^2*(1-p2))   -\n",
    "(Zc^2*(1-p3) + Zc.prime^2*(1-p3))   "
   ]
  },
  {
   "cell_type": "code",
   "execution_count": 332,
   "metadata": {},
   "outputs": [
    {
     "data": {
      "text/html": [
       "7175"
      ],
      "text/latex": [
       "7175"
      ],
      "text/markdown": [
       "7175"
      ],
      "text/plain": [
       "[1] 7175"
      ]
     },
     "metadata": {},
     "output_type": "display_data"
    }
   ],
   "source": [
    "Za^2*p1 + Za.prime^2   +\n",
    "Zb^2*p2 + Zb.prime^2   +\n",
    "Zc^2*p3 + Zc.prime^2   -\n",
    "\n",
    "(Za.prime^2*(1-p1))   -\n",
    "(Zb.prime^2*(1-p2))   -\n",
    "(Zc.prime^2*(1-p3))   "
   ]
  },
  {
   "cell_type": "code",
   "execution_count": 334,
   "metadata": {},
   "outputs": [
    {
     "data": {
      "text/html": [
       "7175"
      ],
      "text/latex": [
       "7175"
      ],
      "text/markdown": [
       "7175"
      ],
      "text/plain": [
       "[1] 7175"
      ]
     },
     "metadata": {},
     "output_type": "display_data"
    }
   ],
   "source": [
    "Za^2*p1 + p1*Za.prime^2   +\n",
    "Zb^2*p2 + p2*Zb.prime^2   +\n",
    "Zc^2*p3 + p3*Zc.prime^2 "
   ]
  },
  {
   "cell_type": "code",
   "execution_count": 335,
   "metadata": {},
   "outputs": [
    {
     "data": {
      "text/html": [
       "7175"
      ],
      "text/latex": [
       "7175"
      ],
      "text/markdown": [
       "7175"
      ],
      "text/plain": [
       "[1] 7175"
      ]
     },
     "metadata": {},
     "output_type": "display_data"
    }
   ],
   "source": [
    "p1*(Za^2 + Za.prime^2)   +\n",
    "p2*(Zb^2 + Zb.prime^2)   +\n",
    "p3*(Zc^2 + Zc.prime^2)   "
   ]
  },
  {
   "cell_type": "code",
   "execution_count": 348,
   "metadata": {},
   "outputs": [
    {
     "data": {
      "text/html": [
       "7175"
      ],
      "text/latex": [
       "7175"
      ],
      "text/markdown": [
       "7175"
      ],
      "text/plain": [
       "[1] 7175"
      ]
     },
     "metadata": {},
     "output_type": "display_data"
    }
   ],
   "source": [
    "Za^2*(1-p1) +\n",
    "Zb^2*(1-p2) +\n",
    "Zc^2*(1-p3) "
   ]
  },
  {
   "cell_type": "code",
   "execution_count": 357,
   "metadata": {},
   "outputs": [
    {
     "data": {
      "text/html": [
       "8773.34656084656"
      ],
      "text/latex": [
       "8773.34656084656"
      ],
      "text/markdown": [
       "8773.34656084656"
      ],
      "text/plain": [
       "[1] 8773.347"
      ]
     },
     "metadata": {},
     "output_type": "display_data"
    },
    {
     "data": {
      "text/html": [
       "5576.65343915344"
      ],
      "text/latex": [
       "5576.65343915344"
      ],
      "text/markdown": [
       "5576.65343915344"
      ],
      "text/plain": [
       "[1] 5576.653"
      ]
     },
     "metadata": {},
     "output_type": "display_data"
    }
   ],
   "source": [
    "Za^2 + Zb^2 + Zc^2\n",
    "p1*Za.prime^2 + p2*Zb.prime^2 + p3*Zc.prime^2"
   ]
  },
  {
   "cell_type": "code",
   "execution_count": 361,
   "metadata": {},
   "outputs": [
    {
     "data": {
      "text/html": [
       "14350"
      ],
      "text/latex": [
       "14350"
      ],
      "text/markdown": [
       "14350"
      ],
      "text/plain": [
       "[1] 14350"
      ]
     },
     "metadata": {},
     "output_type": "display_data"
    },
    {
     "data": {
      "text/html": [
       "14350"
      ],
      "text/latex": [
       "14350"
      ],
      "text/markdown": [
       "14350"
      ],
      "text/plain": [
       "[1] 14350"
      ]
     },
     "metadata": {},
     "output_type": "display_data"
    }
   ],
   "source": [
    "p1*Za^2 + Za.prime^2 +\n",
    "p2*Zb^2 + Zb.prime^2 +\n",
    "p3*Zc^2 + Zc.prime^2 \n",
    "\n",
    "(Za^2*(1-p1) + Za.prime^2*(1-p1))   +\n",
    "(Zb^2*(1-p2) + Zb.prime^2*(1-p2))   +\n",
    "(Zc^2*(1-p3) + Zc.prime^2*(1-p3))   "
   ]
  },
  {
   "cell_type": "code",
   "execution_count": 375,
   "metadata": {},
   "outputs": [
    {
     "data": {
      "text/html": [
       "3196.69312169312"
      ],
      "text/latex": [
       "3196.69312169312"
      ],
      "text/markdown": [
       "3196.69312169312"
      ],
      "text/plain": [
       "[1] 3196.693"
      ]
     },
     "metadata": {},
     "output_type": "display_data"
    },
    {
     "data": {
      "text/html": [
       "3196.69312169312"
      ],
      "text/latex": [
       "3196.69312169312"
      ],
      "text/markdown": [
       "3196.69312169312"
      ],
      "text/plain": [
       "[1] 3196.693"
      ]
     },
     "metadata": {},
     "output_type": "display_data"
    }
   ],
   "source": [
    "2*p1*Za^2  +\n",
    "2*p2*Zb^2  +\n",
    "2*p3*Zc^2  \n",
    "\n",
    "Za^2 - Za.prime^2*p1   +\n",
    "Zb^2 - Zb.prime^2*p2   +\n",
    "Zc^2 - Zc.prime^2*p3  "
   ]
  },
  {
   "cell_type": "code",
   "execution_count": 377,
   "metadata": {},
   "outputs": [
    {
     "data": {
      "text/html": [
       "8773.34656084656"
      ],
      "text/latex": [
       "8773.34656084656"
      ],
      "text/markdown": [
       "8773.34656084656"
      ],
      "text/plain": [
       "[1] 8773.347"
      ]
     },
     "metadata": {},
     "output_type": "display_data"
    },
    {
     "data": {
      "text/html": [
       "8773.34656084656"
      ],
      "text/latex": [
       "8773.34656084656"
      ],
      "text/markdown": [
       "8773.34656084656"
      ],
      "text/plain": [
       "[1] 8773.347"
      ]
     },
     "metadata": {},
     "output_type": "display_data"
    }
   ],
   "source": [
    "2*p1*Za^2  + Za.prime^2*p1  +\n",
    "2*p2*Zb^2  + Zb.prime^2*p2 +\n",
    "2*p3*Zc^2  + Zc.prime^2*p3 \n",
    "\n",
    "Za^2  +\n",
    "Zb^2  +\n",
    "Zc^2  "
   ]
  },
  {
   "cell_type": "code",
   "execution_count": 381,
   "metadata": {},
   "outputs": [
    {
     "data": {
      "text/html": [
       "8773.34656084656"
      ],
      "text/latex": [
       "8773.34656084656"
      ],
      "text/markdown": [
       "8773.34656084656"
      ],
      "text/plain": [
       "[1] 8773.347"
      ]
     },
     "metadata": {},
     "output_type": "display_data"
    },
    {
     "data": {
      "text/html": [
       "8773.34656084656"
      ],
      "text/latex": [
       "8773.34656084656"
      ],
      "text/markdown": [
       "8773.34656084656"
      ],
      "text/plain": [
       "[1] 8773.347"
      ]
     },
     "metadata": {},
     "output_type": "display_data"
    }
   ],
   "source": [
    "p1*Za^2 + p1*Za^2  + Za.prime^2*p1  +\n",
    "p2*Zb^2 + p2*Zb^2  + Zb.prime^2*p2 +\n",
    "p3*Zc^2 + p3*Zc^2  + Zc.prime^2*p3 \n",
    "\n",
    "Za^2  +\n",
    "Zb^2  +\n",
    "Zc^2  "
   ]
  },
  {
   "cell_type": "code",
   "execution_count": 382,
   "metadata": {},
   "outputs": [
    {
     "data": {
      "text/html": [
       "8773.34656084656"
      ],
      "text/latex": [
       "8773.34656084656"
      ],
      "text/markdown": [
       "8773.34656084656"
      ],
      "text/plain": [
       "[1] 8773.347"
      ]
     },
     "metadata": {},
     "output_type": "display_data"
    },
    {
     "data": {
      "text/html": [
       "8773.34656084656"
      ],
      "text/latex": [
       "8773.34656084656"
      ],
      "text/markdown": [
       "8773.34656084656"
      ],
      "text/plain": [
       "[1] 8773.347"
      ]
     },
     "metadata": {},
     "output_type": "display_data"
    }
   ],
   "source": [
    "p1*Za^2 + \n",
    "p2*Zb^2 + \n",
    "p3*Zc^2 + 7175 \n",
    "\n",
    "Za^2  +\n",
    "Zb^2  +\n",
    "Zc^2 "
   ]
  },
  {
   "cell_type": "code",
   "execution_count": 383,
   "metadata": {},
   "outputs": [
    {
     "data": {
      "text/html": [
       "7175"
      ],
      "text/latex": [
       "7175"
      ],
      "text/markdown": [
       "7175"
      ],
      "text/plain": [
       "[1] 7175"
      ]
     },
     "metadata": {},
     "output_type": "display_data"
    },
    {
     "data": {
      "text/html": [
       "7175"
      ],
      "text/latex": [
       "7175"
      ],
      "text/markdown": [
       "7175"
      ],
      "text/plain": [
       "[1] 7175"
      ]
     },
     "metadata": {},
     "output_type": "display_data"
    }
   ],
   "source": [
    "###########################################################\n",
    "###\n",
    "###\n",
    "### THIS IS THE IDENTITY I'M MISSING\n",
    "###\n",
    "### NO -> THIS IS THE CHI^2 TEST STAT\n",
    "### Za^2  - p1*Za^2 = Za^2(1-p1)\n",
    "###\n",
    "###########################################################\n",
    "7175 \n",
    "\n",
    "Za^2  - p1*Za^2 + \n",
    "Zb^2  - p2*Zb^2 + \n",
    "Zc^2  - p3*Zc^2 "
   ]
  },
  {
   "cell_type": "code",
   "execution_count": 384,
   "metadata": {},
   "outputs": [
    {
     "data": {
      "text/html": [
       "21525"
      ],
      "text/latex": [
       "21525"
      ],
      "text/markdown": [
       "21525"
      ],
      "text/plain": [
       "[1] 21525"
      ]
     },
     "metadata": {},
     "output_type": "display_data"
    },
    {
     "data": {
      "text/html": [
       "66049.074074074"
      ],
      "text/latex": [
       "66049.074074074"
      ],
      "text/markdown": [
       "66049.074074074"
      ],
      "text/plain": [
       "[1] 66049.07"
      ]
     },
     "metadata": {},
     "output_type": "display_data"
    }
   ],
   "source": [
    "7175 +\n",
    "7175 +\n",
    "7175\n",
    "\n",
    "Za^2/p1  - Za^2 + \n",
    "Zb^2/p2  - Zb^2 + \n",
    "Zc^2/p3  - Zc^2 "
   ]
  },
  {
   "cell_type": "code",
   "execution_count": 386,
   "metadata": {},
   "outputs": [
    {
     "data": {
      "text/html": [
       "7175"
      ],
      "text/latex": [
       "7175"
      ],
      "text/markdown": [
       "7175"
      ],
      "text/plain": [
       "[1] 7175"
      ]
     },
     "metadata": {},
     "output_type": "display_data"
    }
   ],
   "source": [
    "p1*7175 + p2*7175 + p3*7175"
   ]
  },
  {
   "cell_type": "code",
   "execution_count": 387,
   "metadata": {},
   "outputs": [
    {
     "data": {
      "text/html": [
       "1022"
      ],
      "text/latex": [
       "1022"
      ],
      "text/markdown": [
       "1022"
      ],
      "text/plain": [
       "[1] 1022"
      ]
     },
     "metadata": {},
     "output_type": "display_data"
    }
   ],
   "source": [
    "p1*(Za^2  - p1*Za^2) + \n",
    "p2*(Zb^2  - p2*Zb^2) + \n",
    "p3*(Zc^2  - p3*Zc^2) "
   ]
  },
  {
   "cell_type": "code",
   "execution_count": 390,
   "metadata": {},
   "outputs": [
    {
     "data": {
      "text/html": [
       "14350"
      ],
      "text/latex": [
       "14350"
      ],
      "text/markdown": [
       "14350"
      ],
      "text/plain": [
       "[1] 14350"
      ]
     },
     "metadata": {},
     "output_type": "display_data"
    },
    {
     "data": {
      "text/html": [
       "14350"
      ],
      "text/latex": [
       "14350"
      ],
      "text/markdown": [
       "14350"
      ],
      "text/plain": [
       "[1] 14350"
      ]
     },
     "metadata": {},
     "output_type": "display_data"
    }
   ],
   "source": [
    "2*Za^2*p1 + 2*p1*Za.prime^2   +\n",
    "2*Zb^2*p2 + 2*p2*Zb.prime^2   +\n",
    "2*Zc^2*p3 + 2*p3*Zc.prime^2 \n",
    "\n",
    "Za^2*(1-p1) + Za.prime^2*(1-p1)   +\n",
    "Zb^2*(1-p2) + Zb.prime^2*(1-p2)   +\n",
    "Zc^2*(1-p3) + Zc.prime^2*(1-p3)   #6"
   ]
  },
  {
   "cell_type": "code",
   "execution_count": 396,
   "metadata": {},
   "outputs": [
    {
     "data": {
      "text/html": [
       "21525"
      ],
      "text/latex": [
       "21525"
      ],
      "text/markdown": [
       "21525"
      ],
      "text/plain": [
       "[1] 21525"
      ]
     },
     "metadata": {},
     "output_type": "display_data"
    },
    {
     "data": {
      "text/html": [
       "21525"
      ],
      "text/latex": [
       "21525"
      ],
      "text/markdown": [
       "21525"
      ],
      "text/plain": [
       "[1] 21525"
      ]
     },
     "metadata": {},
     "output_type": "display_data"
    }
   ],
   "source": [
    "3*Za^2*p1 + 3*p1*Za.prime^2   +\n",
    "3*Zb^2*p2 + 3*p2*Zb.prime^2   +\n",
    "3*Zc^2*p3 + 3*p3*Zc.prime^2 \n",
    "\n",
    "Za^2 + Za.prime^2   +\n",
    "Zb^2 + Zb.prime^2   +\n",
    "Zc^2 + Zc.prime^2   "
   ]
  },
  {
   "cell_type": "code",
   "execution_count": 408,
   "metadata": {},
   "outputs": [
    {
     "data": {
      "text/html": [
       "8773.34656084656"
      ],
      "text/latex": [
       "8773.34656084656"
      ],
      "text/markdown": [
       "8773.34656084656"
      ],
      "text/plain": [
       "[1] 8773.347"
      ]
     },
     "metadata": {},
     "output_type": "display_data"
    },
    {
     "data": {
      "text/html": [
       "12751.6534391534"
      ],
      "text/latex": [
       "12751.6534391534"
      ],
      "text/markdown": [
       "12751.6534391534"
      ],
      "text/plain": [
       "[1] 12751.65"
      ]
     },
     "metadata": {},
     "output_type": "display_data"
    }
   ],
   "source": [
    "Za^2 + Zb^2 + Zc^2\n",
    "Za.prime^2 + Zb.prime^2 + Zc.prime^2"
   ]
  },
  {
   "cell_type": "code",
   "execution_count": 409,
   "metadata": {},
   "outputs": [
    {
     "data": {
      "text/html": [
       "1.45345374774788"
      ],
      "text/latex": [
       "1.45345374774788"
      ],
      "text/markdown": [
       "1.45345374774788"
      ],
      "text/plain": [
       "[1] 1.453454"
      ]
     },
     "metadata": {},
     "output_type": "display_data"
    }
   ],
   "source": [
    "12751.6534391534 / 8773.34656084656"
   ]
  },
  {
   "cell_type": "code",
   "execution_count": 410,
   "metadata": {},
   "outputs": [
    {
     "data": {
      "text/html": [
       "7175"
      ],
      "text/latex": [
       "7175"
      ],
      "text/markdown": [
       "7175"
      ],
      "text/plain": [
       "[1] 7175"
      ]
     },
     "metadata": {},
     "output_type": "display_data"
    },
    {
     "data": {
      "text/html": [
       "7175"
      ],
      "text/latex": [
       "7175"
      ],
      "text/markdown": [
       "7175"
      ],
      "text/plain": [
       "[1] 7175"
      ]
     },
     "metadata": {},
     "output_type": "display_data"
    }
   ],
   "source": [
    "Za^2*(1-p1) + Zb^2*(1-p2) + Zc^2*(1-p3)\n",
    "Za.prime^2*(1-p1) + Zb.prime^2*(1-p2) + Zc.prime^2*(1-p3)"
   ]
  },
  {
   "cell_type": "code",
   "execution_count": 402,
   "metadata": {},
   "outputs": [
    {
     "data": {
      "text/html": [
       "0.886510064216537"
      ],
      "text/latex": [
       "0.886510064216537"
      ],
      "text/markdown": [
       "0.886510064216537"
      ],
      "text/plain": [
       "[1] 0.8865101"
      ]
     },
     "metadata": {},
     "output_type": "display_data"
    }
   ],
   "source": [
    "90.6799602552111 / 102.288698025499"
   ]
  },
  {
   "cell_type": "code",
   "execution_count": 411,
   "metadata": {},
   "outputs": [
    {
     "data": {
      "text/html": [
       "1598.34656084656"
      ],
      "text/latex": [
       "1598.34656084656"
      ],
      "text/markdown": [
       "1598.34656084656"
      ],
      "text/plain": [
       "[1] 1598.347"
      ]
     },
     "metadata": {},
     "output_type": "display_data"
    },
    {
     "data": {
      "text/html": [
       "5576.65343915344"
      ],
      "text/latex": [
       "5576.65343915344"
      ],
      "text/markdown": [
       "5576.65343915344"
      ],
      "text/plain": [
       "[1] 5576.653"
      ]
     },
     "metadata": {},
     "output_type": "display_data"
    }
   ],
   "source": [
    "Za^2*(p1) + Zb^2*(p2) + Zc^2*(p3)\n",
    "Za.prime^2*(p1) + Zb.prime^2*(p2) + Zc.prime^2*(p3)"
   ]
  },
  {
   "cell_type": "code",
   "execution_count": 412,
   "metadata": {},
   "outputs": [
    {
     "data": {
      "text/html": [
       "3.48901394463525"
      ],
      "text/latex": [
       "3.48901394463525"
      ],
      "text/markdown": [
       "3.48901394463525"
      ],
      "text/plain": [
       "[1] 3.489014"
      ]
     },
     "metadata": {},
     "output_type": "display_data"
    }
   ],
   "source": [
    "5576.65343915344 / 1598.34656084656"
   ]
  },
  {
   "cell_type": "code",
   "execution_count": 413,
   "metadata": {},
   "outputs": [
    {
     "data": {
      "text/html": [
       "4.37565036420395"
      ],
      "text/latex": [
       "4.37565036420395"
      ],
      "text/markdown": [
       "4.37565036420395"
      ],
      "text/plain": [
       "[1] 4.37565"
      ]
     },
     "metadata": {},
     "output_type": "display_data"
    }
   ],
   "source": [
    "(Za.prime^2*(1-p1)) / (Za^2*(1-p1))"
   ]
  },
  {
   "cell_type": "code",
   "execution_count": 414,
   "metadata": {},
   "outputs": [
    {
     "data": {
      "text/html": [
       "7175"
      ],
      "text/latex": [
       "7175"
      ],
      "text/markdown": [
       "7175"
      ],
      "text/plain": [
       "[1] 7175"
      ]
     },
     "metadata": {},
     "output_type": "display_data"
    }
   ],
   "source": [
    "p1*(Za^2 + Za.prime^2)   +\n",
    "p2*(Zb^2 + Zb.prime^2)   +\n",
    "p3*(Zc^2 + Zc.prime^2)   "
   ]
  },
  {
   "cell_type": "code",
   "execution_count": 420,
   "metadata": {},
   "outputs": [
    {
     "data": {
      "text/html": [
       "7175"
      ],
      "text/latex": [
       "7175"
      ],
      "text/markdown": [
       "7175"
      ],
      "text/plain": [
       "[1] 7175"
      ]
     },
     "metadata": {},
     "output_type": "display_data"
    }
   ],
   "source": [
    "Za^2 - (1-p1)*Za^2 + Za.prime^2 - (1-p1)*Za.prime^2 +\n",
    "Zb^2 - (1-p2)*Zb^2 + Zb.prime^2 - (1-p2)*Zb.prime^2 +\n",
    "Zc^2 - (1-p3)*Zc^2 + Zc.prime^2 - (1-p3)*Zc.prime^2 "
   ]
  },
  {
   "cell_type": "code",
   "execution_count": 423,
   "metadata": {},
   "outputs": [
    {
     "data": {
      "text/html": [
       "20457.2222222222"
      ],
      "text/latex": [
       "20457.2222222222"
      ],
      "text/markdown": [
       "20457.2222222222"
      ],
      "text/plain": [
       "[1] 20457.22"
      ]
     },
     "metadata": {},
     "output_type": "display_data"
    }
   ],
   "source": [
    "3*7175 - (1-p1)*Za^2 - (1-p1)*Za.prime^2 +\n",
    "(1-p2)*Zb^2 - (1-p2)*Zb.prime^2 +\n",
    "(1-p3)*Zc^2 - (1-p3)*Zc.prime^2 "
   ]
  },
  {
   "cell_type": "code",
   "execution_count": 422,
   "metadata": {},
   "outputs": [
    {
     "data": {
      "text/html": [
       "21525"
      ],
      "text/latex": [
       "21525"
      ],
      "text/markdown": [
       "21525"
      ],
      "text/plain": [
       "[1] 21525"
      ]
     },
     "metadata": {},
     "output_type": "display_data"
    }
   ],
   "source": [
    "Za^2+ Za.prime^2  +\n",
    "Zb^2  + Zb.prime^2 +\n",
    "Zc^2  + Zc.prime^2 "
   ]
  },
  {
   "cell_type": "code",
   "execution_count": 425,
   "metadata": {},
   "outputs": [
    {
     "data": {
      "text/html": [
       "-2.27373675443232e-12"
      ],
      "text/latex": [
       "-2.27373675443232e-12"
      ],
      "text/markdown": [
       "-2.27373675443232e-12"
      ],
      "text/plain": [
       "[1] -2.273737e-12"
      ]
     },
     "metadata": {},
     "output_type": "display_data"
    }
   ],
   "source": [
    "(1-p1)*Za^2 - (1-p1)*Za.prime^2 +\n",
    "(1-p2)*Zb^2 - (1-p2)*Zb.prime^2 +\n",
    "(1-p3)*Zc^2 - (1-p3)*Zc.prime^2 "
   ]
  },
  {
   "cell_type": "code",
   "execution_count": 426,
   "metadata": {},
   "outputs": [
    {
     "data": {
      "text/html": [
       "7175"
      ],
      "text/latex": [
       "7175"
      ],
      "text/markdown": [
       "7175"
      ],
      "text/plain": [
       "[1] 7175"
      ]
     },
     "metadata": {},
     "output_type": "display_data"
    },
    {
     "data": {
      "text/html": [
       "7175"
      ],
      "text/latex": [
       "7175"
      ],
      "text/markdown": [
       "7175"
      ],
      "text/plain": [
       "[1] 7175"
      ]
     },
     "metadata": {},
     "output_type": "display_data"
    }
   ],
   "source": [
    "(1-p1)*Za^2  +\n",
    "(1-p2)*Zb^2  +\n",
    "(1-p3)*Zc^2 \n",
    "\n",
    "(1-p1)*Za.prime^2 +\n",
    "(1-p2)*Zb.prime^2 +\n",
    "(1-p3)*Zc.prime^2 "
   ]
  },
  {
   "cell_type": "code",
   "execution_count": 428,
   "metadata": {},
   "outputs": [
    {
     "data": {
      "text/html": [
       "14350"
      ],
      "text/latex": [
       "14350"
      ],
      "text/markdown": [
       "14350"
      ],
      "text/plain": [
       "[1] 14350"
      ]
     },
     "metadata": {},
     "output_type": "display_data"
    },
    {
     "data": {
      "text/html": [
       "14350"
      ],
      "text/latex": [
       "14350"
      ],
      "text/markdown": [
       "14350"
      ],
      "text/plain": [
       "[1] 14350"
      ]
     },
     "metadata": {},
     "output_type": "display_data"
    }
   ],
   "source": [
    "#2*[9] = [8]\n",
    "2*(p1*(Za^2 + Za.prime^2)   +\n",
    "p2*(Zb^2 + Zb.prime^2)   +\n",
    "p3*(Zc^2 + Zc.prime^2)  \n",
    "   )\n",
    "\n",
    "(Za^2*(1-p1) + Za.prime^2*(1-p1))   +\n",
    "(Zb^2*(1-p2) + Zb.prime^2*(1-p2))   +\n",
    "(Zc^2*(1-p3) + Zc.prime^2*(1-p3))   "
   ]
  },
  {
   "cell_type": "code",
   "execution_count": 431,
   "metadata": {},
   "outputs": [
    {
     "data": {
      "text/html": [
       "21525"
      ],
      "text/latex": [
       "21525"
      ],
      "text/markdown": [
       "21525"
      ],
      "text/plain": [
       "[1] 21525"
      ]
     },
     "metadata": {},
     "output_type": "display_data"
    },
    {
     "data": {
      "text/html": [
       "21525"
      ],
      "text/latex": [
       "21525"
      ],
      "text/markdown": [
       "21525"
      ],
      "text/plain": [
       "[1] 21525"
      ]
     },
     "metadata": {},
     "output_type": "display_data"
    }
   ],
   "source": [
    "3*(p1*(Za^2 + Za.prime^2)   +\n",
    "p2*(Zb^2 + Zb.prime^2)   +\n",
    "p3*(Zc^2 + Zc.prime^2)  \n",
    "   )\n",
    "\n",
    "Za^2 + Za.prime^2   +\n",
    "Zb^2 + Zb.prime^2   +\n",
    "Zc^2 + Zc.prime^2  "
   ]
  },
  {
   "cell_type": "code",
   "execution_count": 434,
   "metadata": {},
   "outputs": [
    {
     "data": {
      "text/html": [
       "14350"
      ],
      "text/latex": [
       "14350"
      ],
      "text/markdown": [
       "14350"
      ],
      "text/plain": [
       "[1] 14350"
      ]
     },
     "metadata": {},
     "output_type": "display_data"
    },
    {
     "data": {
      "text/html": [
       "14350"
      ],
      "text/latex": [
       "14350"
      ],
      "text/markdown": [
       "14350"
      ],
      "text/plain": [
       "[1] 14350"
      ]
     },
     "metadata": {},
     "output_type": "display_data"
    }
   ],
   "source": [
    "p1*Za^2 + Za.prime^2   +\n",
    "p2*Zb^2 + Zb.prime^2  +\n",
    "p3*Zc^2 + Zc.prime^2 \n",
    "\n",
    "(Za^2*(1-p1) + Za.prime^2*(1-p1))   +\n",
    "(Zb^2*(1-p2) + Zb.prime^2*(1-p2))   +\n",
    "(Zc^2*(1-p3) + Zc.prime^2*(1-p3)) "
   ]
  },
  {
   "cell_type": "code",
   "execution_count": 436,
   "metadata": {},
   "outputs": [
    {
     "data": {
      "text/html": [
       "1598.34656084656"
      ],
      "text/latex": [
       "1598.34656084656"
      ],
      "text/markdown": [
       "1598.34656084656"
      ],
      "text/plain": [
       "[1] 1598.347"
      ]
     },
     "metadata": {},
     "output_type": "display_data"
    },
    {
     "data": {
      "text/html": [
       "1598.34656084656"
      ],
      "text/latex": [
       "1598.34656084656"
      ],
      "text/markdown": [
       "1598.34656084656"
      ],
      "text/plain": [
       "[1] 1598.347"
      ]
     },
     "metadata": {},
     "output_type": "display_data"
    }
   ],
   "source": [
    "p1*Za^2    +\n",
    "p2*Zb^2   +\n",
    "p3*Zc^2 \n",
    "\n",
    "(Za^2*(1-p1) + Za.prime^2*(0-p1))   +\n",
    "(Zb^2*(1-p2) + Zb.prime^2*(0-p2))   +\n",
    "(Zc^2*(1-p3) + Zc.prime^2*(0-p3)) "
   ]
  },
  {
   "cell_type": "code",
   "execution_count": 439,
   "metadata": {},
   "outputs": [
    {
     "data": {
      "text/html": [
       "3196.69312169312"
      ],
      "text/latex": [
       "3196.69312169312"
      ],
      "text/markdown": [
       "3196.69312169312"
      ],
      "text/plain": [
       "[1] 3196.693"
      ]
     },
     "metadata": {},
     "output_type": "display_data"
    },
    {
     "data": {
      "text/html": [
       "3196.69312169312"
      ],
      "text/latex": [
       "3196.69312169312"
      ],
      "text/markdown": [
       "3196.69312169312"
      ],
      "text/plain": [
       "[1] 3196.693"
      ]
     },
     "metadata": {},
     "output_type": "display_data"
    }
   ],
   "source": [
    "2*p1*Za^2    +\n",
    "2*p2*Zb^2   +\n",
    "2*p3*Zc^2 \n",
    "\n",
    "Za^2 + Za.prime^2*(0-p1)   +\n",
    "Zb^2 + Zb.prime^2*(0-p2)  +\n",
    "Zc^2 + Zc.prime^2*(0-p3)"
   ]
  },
  {
   "cell_type": "code",
   "execution_count": 440,
   "metadata": {},
   "outputs": [
    {
     "data": {
      "text/html": [
       "5182.25504345407"
      ],
      "text/latex": [
       "5182.25504345407"
      ],
      "text/markdown": [
       "5182.25504345407"
      ],
      "text/plain": [
       "[1] 5182.255"
      ]
     },
     "metadata": {},
     "output_type": "display_data"
    }
   ],
   "source": [
    "2*p1*Za^2 + p1*Za.prime^2 + Za.prime"
   ]
  },
  {
   "cell_type": "code",
   "execution_count": 441,
   "metadata": {},
   "outputs": [
    {
     "data": {
      "text/html": [
       "1601.66666666667"
      ],
      "text/latex": [
       "1601.66666666667"
      ],
      "text/markdown": [
       "1601.66666666667"
      ],
      "text/plain": [
       "[1] 1601.667"
      ]
     },
     "metadata": {},
     "output_type": "display_data"
    },
    {
     "data": {
      "text/html": [
       "-2169.44444444444"
      ],
      "text/latex": [
       "-2169.44444444444"
      ],
      "text/markdown": [
       "-2169.44444444444"
      ],
      "text/plain": [
       "[1] -2169.444"
      ]
     },
     "metadata": {},
     "output_type": "display_data"
    }
   ],
   "source": [
    "2*p1*Za^2 \n",
    "Za^2 + Za.prime^2*(0-p1) "
   ]
  },
  {
   "cell_type": "code",
   "execution_count": 444,
   "metadata": {},
   "outputs": [
    {
     "data": {
      "text/html": [
       "14350"
      ],
      "text/latex": [
       "14350"
      ],
      "text/markdown": [
       "14350"
      ],
      "text/plain": [
       "[1] 14350"
      ]
     },
     "metadata": {},
     "output_type": "display_data"
    }
   ],
   "source": [
    "(2/3)*Za^2 + (2/3)*Za.prime^2 +\n",
    "(2/3)*Zb^2 + (2/3)*Zb.prime^2 +\n",
    "(2/3)*Zc^2 + (2/3)*Zc.prime^2 "
   ]
  },
  {
   "cell_type": "code",
   "execution_count": 446,
   "metadata": {},
   "outputs": [
    {
     "data": {
      "text/html": [
       "-1.81921144815078e-12"
      ],
      "text/latex": [
       "-1.81921144815078e-12"
      ],
      "text/markdown": [
       "-1.81921144815078e-12"
      ],
      "text/plain": [
       "[1] -1.819211e-12"
      ]
     },
     "metadata": {},
     "output_type": "display_data"
    }
   ],
   "source": [
    "(1-2*p1)*Za^2  +\n",
    "(1-2*p2)*Zb^2  +\n",
    "(1-2*p3)*Zc^2  -\n",
    "\n",
    "\n",
    "(p1)*Za.prime^2 -\n",
    "(p2)*Zb.prime^2 -\n",
    "(p3)*Zc.prime^2 "
   ]
  },
  {
   "cell_type": "code",
   "execution_count": 448,
   "metadata": {},
   "outputs": [
    {
     "data": {
      "text/html": [
       "-1.81921144815078e-12"
      ],
      "text/latex": [
       "-1.81921144815078e-12"
      ],
      "text/markdown": [
       "-1.81921144815078e-12"
      ],
      "text/plain": [
       "[1] -1.819211e-12"
      ]
     },
     "metadata": {},
     "output_type": "display_data"
    }
   ],
   "source": [
    "(1-2*p1)*Za^2  +\n",
    "(1-2*p2)*Zb^2  +\n",
    "(1-2*p3)*Zc^2  -\n",
    "\n",
    "\n",
    "(p1)*Za.prime^2 -\n",
    "(p2)*Zb.prime^2 -\n",
    "(p3)*Zc.prime^2 "
   ]
  },
  {
   "cell_type": "code",
   "execution_count": 450,
   "metadata": {},
   "outputs": [
    {
     "data": {
      "text/html": [
       "1598.34656084656"
      ],
      "text/latex": [
       "1598.34656084656"
      ],
      "text/markdown": [
       "1598.34656084656"
      ],
      "text/plain": [
       "[1] 1598.347"
      ]
     },
     "metadata": {},
     "output_type": "display_data"
    }
   ],
   "source": [
    "p1*Za^2 +\n",
    "p2*Zb^2 +\n",
    "p3*Zc^2"
   ]
  },
  {
   "cell_type": "code",
   "execution_count": 451,
   "metadata": {},
   "outputs": [
    {
     "data": {
      "text/html": [
       "39.9749921826134"
      ],
      "text/latex": [
       "39.9749921826134"
      ],
      "text/markdown": [
       "39.9749921826134"
      ],
      "text/plain": [
       "[1] 39.97499"
      ]
     },
     "metadata": {},
     "output_type": "display_data"
    }
   ],
   "source": [
    "sqrt(1598)"
   ]
  },
  {
   "cell_type": "code",
   "execution_count": 453,
   "metadata": {},
   "outputs": [
    {
     "data": {
      "text/html": [
       "45.8634501131722"
      ],
      "text/latex": [
       "45.8634501131722"
      ],
      "text/markdown": [
       "45.8634501131722"
      ],
      "text/plain": [
       "[1] 45.86345"
      ]
     },
     "metadata": {},
     "output_type": "display_data"
    }
   ],
   "source": [
    "(Za+Zb+Zc)/3"
   ]
  },
  {
   "cell_type": "code",
   "execution_count": 454,
   "metadata": {},
   "outputs": [
    {
     "data": {
      "text/html": [
       "5576.65343915344"
      ],
      "text/latex": [
       "5576.65343915344"
      ],
      "text/markdown": [
       "5576.65343915344"
      ],
      "text/plain": [
       "[1] 5576.653"
      ]
     },
     "metadata": {},
     "output_type": "display_data"
    }
   ],
   "source": [
    "p1*Za.prime^2 +\n",
    "p2*Zb.prime^2 +\n",
    "p3*Zc.prime^2"
   ]
  },
  {
   "cell_type": "code",
   "execution_count": 455,
   "metadata": {},
   "outputs": [
    {
     "data": {
      "text/html": [
       "1.12485759473326"
      ],
      "text/latex": [
       "1.12485759473326"
      ],
      "text/markdown": [
       "1.12485759473326"
      ],
      "text/plain": [
       "[1] 1.124858"
      ]
     },
     "metadata": {},
     "output_type": "display_data"
    }
   ],
   "source": [
    "alpha <- acos(Za/sqrt(7175))\n",
    "alpha"
   ]
  },
  {
   "cell_type": "code",
   "execution_count": 458,
   "metadata": {},
   "outputs": [
    {
     "data": {
      "text/html": [
       "0.902206183143757"
      ],
      "text/latex": [
       "0.902206183143757"
      ],
      "text/markdown": [
       "0.902206183143757"
      ],
      "text/plain": [
       "[1] 0.9022062"
      ]
     },
     "metadata": {},
     "output_type": "display_data"
    },
    {
     "data": {
      "text/html": [
       "0.902206183143757"
      ],
      "text/latex": [
       "0.902206183143757"
      ],
      "text/markdown": [
       "0.902206183143757"
      ],
      "text/plain": [
       "[1] 0.9022062"
      ]
     },
     "metadata": {},
     "output_type": "display_data"
    }
   ],
   "source": [
    "sin(alpha)\n",
    "Za.prime/sqrt(7175)"
   ]
  },
  {
   "cell_type": "code",
   "execution_count": 459,
   "metadata": {},
   "outputs": [
    {
     "data": {
      "text/html": [
       "7175"
      ],
      "text/latex": [
       "7175"
      ],
      "text/markdown": [
       "7175"
      ],
      "text/plain": [
       "[1] 7175"
      ]
     },
     "metadata": {},
     "output_type": "display_data"
    }
   ],
   "source": [
    "7175 * (sin(acos(Za/sqrt(7175))))^2 + Za^2"
   ]
  },
  {
   "cell_type": "code",
   "execution_count": 483,
   "metadata": {},
   "outputs": [
    {
     "data": {
      "text/html": [
       "1"
      ],
      "text/latex": [
       "1"
      ],
      "text/markdown": [
       "1"
      ],
      "text/plain": [
       "[1] 1"
      ]
     },
     "metadata": {},
     "output_type": "display_data"
    },
    {
     "data": {
      "text/html": [
       "0.286613930430864"
      ],
      "text/latex": [
       "0.286613930430864"
      ],
      "text/markdown": [
       "0.286613930430864"
      ],
      "text/plain": [
       "[1] 0.2866139"
      ]
     },
     "metadata": {},
     "output_type": "display_data"
    },
    {
     "name": "stdout",
     "output_type": "stream",
     "text": [
      "[1] \"surprising\"\n"
     ]
    },
    {
     "data": {
      "text/html": [
       "0.222766071198127"
      ],
      "text/latex": [
       "0.222766071198127"
      ],
      "text/markdown": [
       "0.222766071198127"
      ],
      "text/plain": [
       "[1] 0.2227661"
      ]
     },
     "metadata": {},
     "output_type": "display_data"
    },
    {
     "data": {
      "text/html": [
       "0.777233928801873"
      ],
      "text/latex": [
       "0.777233928801873"
      ],
      "text/markdown": [
       "0.777233928801873"
      ],
      "text/plain": [
       "[1] 0.7772339"
      ]
     },
     "metadata": {},
     "output_type": "display_data"
    },
    {
     "data": {
      "text/html": [
       "1"
      ],
      "text/latex": [
       "1"
      ],
      "text/markdown": [
       "1"
      ],
      "text/plain": [
       "[1] 1"
      ]
     },
     "metadata": {},
     "output_type": "display_data"
    }
   ],
   "source": [
    "((1-p1)*Za^2 + (1-p2)*Zb^2 + (1-p3)*Zc^2) /\n",
    "((1-p1)*Za.prime^2 + (1-p2)*Zb.prime^2 + (1-p3)*Zc.prime^2)\n",
    "\n",
    "((p1)*Za^2 + (p2)*Zb^2 + (p3)*Zc^2) /\n",
    "((p1)*Za.prime^2 + (p2)*Zb.prime^2 + (p3)*Zc.prime^2)\n",
    "\n",
    "print('surprising')\n",
    "((p1)*Za^2 + (p2)*Zb^2 + (p3)*Zc^2) /\n",
    "((1-p1)*Za^2 + (1-p2)*Zb^2 + (1-p3)*Zc^2)\n",
    "\n",
    "((p1)*Za.prime^2 + (p2)*Zb.prime^2 + (p3)*Zc.prime^2) /\n",
    "((1-p1)*Za.prime^2 + (1-p2)*Zb.prime^2 + (1-p3)*Zc.prime^2)\n",
    "\n",
    "\n",
    "0.222766071198127 + 0.777233928801873\n"
   ]
  },
  {
   "cell_type": "code",
   "execution_count": 477,
   "metadata": {},
   "outputs": [
    {
     "data": {
      "text/html": [
       "1549.06737686909"
      ],
      "text/latex": [
       "1549.06737686909"
      ],
      "text/markdown": [
       "1549.06737686909"
      ],
      "text/plain": [
       "[1] 1549.067"
      ]
     },
     "metadata": {},
     "output_type": "display_data"
    },
    {
     "data": {
      "text/html": [
       "1549.06737686909"
      ],
      "text/latex": [
       "1549.06737686909"
      ],
      "text/markdown": [
       "1549.06737686909"
      ],
      "text/plain": [
       "[1] 1549.067"
      ]
     },
     "metadata": {},
     "output_type": "display_data"
    },
    {
     "data": {
      "text/html": [
       "1549.06737686909"
      ],
      "text/latex": [
       "1549.06737686909"
      ],
      "text/markdown": [
       "1549.06737686909"
      ],
      "text/plain": [
       "[1] 1549.067"
      ]
     },
     "metadata": {},
     "output_type": "display_data"
    },
    {
     "data": {
      "text/html": [
       "1549.06737686909"
      ],
      "text/latex": [
       "1549.06737686909"
      ],
      "text/markdown": [
       "1549.06737686909"
      ],
      "text/plain": [
       "[1] 1549.067"
      ]
     },
     "metadata": {},
     "output_type": "display_data"
    }
   ],
   "source": [
    "((1-p1)*Za^2) / ((1-p1)*Za.prime^2) +\n",
    "((1-p2)*Zb^2) / ((1-p2)*Zb.prime^2) +\n",
    "((1-p3)*Zc^2) / ((1-p3)*Zc.prime^2)\n",
    "\n",
    "((p1)*Za^2) / ((p1)*Za.prime^2) +\n",
    "((p2)*Zb^2) / ((p2)*Zb.prime^2) +\n",
    "((p3)*Zc^2) / ((p3)*Zc.prime^2)\n",
    "\n",
    "\n",
    "(Za^2) / (Za.prime^2) +\n",
    "(Zb^2) / (Zb.prime^2) +\n",
    "(Zc^2) / (Zc.prime^2)\n",
    "\n",
    "((p1)*Za^2) / ((p1)*Za.prime^2) +\n",
    "((p2)*Zb^2) / ((p2)*Zb.prime^2) +\n",
    "((p3)*Zc^2) / ((p3)*Zc.prime^2)"
   ]
  },
  {
   "cell_type": "code",
   "execution_count": 476,
   "metadata": {},
   "outputs": [
    {
     "data": {
      "text/html": [
       "2.03968253968254"
      ],
      "text/latex": [
       "2.03968253968254"
      ],
      "text/markdown": [
       "2.03968253968254"
      ],
      "text/plain": [
       "[1] 2.039683"
      ]
     },
     "metadata": {},
     "output_type": "display_data"
    },
    {
     "data": {
      "text/html": [
       "2.03968253968254"
      ],
      "text/latex": [
       "2.03968253968254"
      ],
      "text/markdown": [
       "2.03968253968254"
      ],
      "text/plain": [
       "[1] 2.039683"
      ]
     },
     "metadata": {},
     "output_type": "display_data"
    }
   ],
   "source": [
    "((p1)*Za.prime^2) / ((1-p1)*Za.prime^2) +\n",
    "((p2)*Zb.prime^2) / ((1-p2)*Zb.prime^2) +\n",
    "((p3)*Zc.prime^2) / ((1-p3)*Zc.prime^2)\n",
    "\n",
    "((p1)*Za^2) / ((1-p1)*Za^2) +\n",
    "((p2)*Zb^2) / ((1-p2)*Zb^2) +\n",
    "((p3)*Zc^2) / ((1-p3)*Zc^2)\n"
   ]
  },
  {
   "cell_type": "code",
   "execution_count": 468,
   "metadata": {},
   "outputs": [
    {
     "data": {
      "text/html": [
       "7175"
      ],
      "text/latex": [
       "7175"
      ],
      "text/markdown": [
       "7175"
      ],
      "text/plain": [
       "[1] 7175"
      ]
     },
     "metadata": {},
     "output_type": "display_data"
    }
   ],
   "source": [
    "((1-p1)*Za^2 + (1-p2)*Zb^2 + (1-p3)*Zc^2)"
   ]
  },
  {
   "cell_type": "code",
   "execution_count": null,
   "metadata": {},
   "outputs": [],
   "source": [
    "K.Chi = (p)Z + (p-1)Z + (p)Z.prime + (p-1)Z.prime\n",
    "K.Chi = (p)a + (p-1)b + (p)c + (p-1)d"
   ]
  },
  {
   "cell_type": "code",
   "execution_count": 482,
   "metadata": {},
   "outputs": [
    {
     "data": {
      "text/html": [
       "0.688016389616452"
      ],
      "text/latex": [
       "0.688016389616452"
      ],
      "text/markdown": [
       "0.688016389616452"
      ],
      "text/plain": [
       "[1] 0.6880164"
      ]
     },
     "metadata": {},
     "output_type": "display_data"
    }
   ],
   "source": [
    "((1)*Za^2 + (1)*Zb^2 + (1)*Zc^2) /\n",
    "((1)*Za.prime^2 + (1)*Zb.prime^2 + (1)*Zc.prime^2)"
   ]
  },
  {
   "cell_type": "code",
   "execution_count": 539,
   "metadata": {},
   "outputs": [
    {
     "data": {
      "text/html": [
       "1.28661393043086"
      ],
      "text/latex": [
       "1.28661393043086"
      ],
      "text/markdown": [
       "1.28661393043086"
      ],
      "text/plain": [
       "[1] 1.286614"
      ]
     },
     "metadata": {},
     "output_type": "display_data"
    },
    {
     "data": {
      "text/html": [
       "1.28661393043086"
      ],
      "text/latex": [
       "1.28661393043086"
      ],
      "text/markdown": [
       "1.28661393043086"
      ],
      "text/plain": [
       "[1] 1.286614"
      ]
     },
     "metadata": {},
     "output_type": "display_data"
    }
   ],
   "source": [
    "B/C\n",
    "A/C + 1"
   ]
  },
  {
   "cell_type": "code",
   "execution_count": 551,
   "metadata": {},
   "outputs": [
    {
     "data": {
      "text/html": [
       "1.73762376237624"
      ],
      "text/latex": [
       "1.73762376237624"
      ],
      "text/markdown": [
       "1.73762376237624"
      ],
      "text/plain": [
       "[1] 1.737624"
      ]
     },
     "metadata": {},
     "output_type": "display_data"
    },
    {
     "data": {
      "text/html": [
       "1.49009900990099"
      ],
      "text/latex": [
       "1.49009900990099"
      ],
      "text/markdown": [
       "1.49009900990099"
      ],
      "text/plain": [
       "[1] 1.490099"
      ]
     },
     "metadata": {},
     "output_type": "display_data"
    }
   ],
   "source": [
    "35.1/20.2\n",
    "9.9/20.2+1"
   ]
  },
  {
   "cell_type": "code",
   "execution_count": 546,
   "metadata": {},
   "outputs": [
    {
     "data": {
      "text/html": [
       "1.28661393043086"
      ],
      "text/latex": [
       "1.28661393043086"
      ],
      "text/markdown": [
       "1.28661393043086"
      ],
      "text/plain": [
       "[1] 1.286614"
      ]
     },
     "metadata": {},
     "output_type": "display_data"
    },
    {
     "data": {
      "text/html": [
       "1.28661393043086"
      ],
      "text/latex": [
       "1.28661393043086"
      ],
      "text/markdown": [
       "1.28661393043086"
      ],
      "text/plain": [
       "[1] 1.286614"
      ]
     },
     "metadata": {},
     "output_type": "display_data"
    }
   ],
   "source": [
    "D/C\n",
    "B/C"
   ]
  },
  {
   "cell_type": "code",
   "execution_count": 612,
   "metadata": {},
   "outputs": [
    {
     "data": {
      "text/html": [
       "21525"
      ],
      "text/latex": [
       "21525"
      ],
      "text/markdown": [
       "21525"
      ],
      "text/plain": [
       "[1] 21525"
      ]
     },
     "metadata": {},
     "output_type": "display_data"
    },
    {
     "data": {
      "text/html": [
       "8773.34656084656"
      ],
      "text/latex": [
       "8773.34656084656"
      ],
      "text/markdown": [
       "8773.34656084656"
      ],
      "text/plain": [
       "[1] 8773.347"
      ]
     },
     "metadata": {},
     "output_type": "display_data"
    },
    {
     "data": {
      "text/html": [
       "12751.6534391534"
      ],
      "text/latex": [
       "12751.6534391534"
      ],
      "text/markdown": [
       "12751.6534391534"
      ],
      "text/plain": [
       "[1] 12751.65"
      ]
     },
     "metadata": {},
     "output_type": "display_data"
    },
    {
     "data": {
      "text/html": [
       "7175"
      ],
      "text/latex": [
       "7175"
      ],
      "text/markdown": [
       "7175"
      ],
      "text/plain": [
       "[1] 7175"
      ]
     },
     "metadata": {},
     "output_type": "display_data"
    },
    {
     "data": {
      "text/html": [
       "7175"
      ],
      "text/latex": [
       "7175"
      ],
      "text/markdown": [
       "7175"
      ],
      "text/plain": [
       "[1] 7175"
      ]
     },
     "metadata": {},
     "output_type": "display_data"
    },
    {
     "data": {
      "text/html": [
       "7175"
      ],
      "text/latex": [
       "7175"
      ],
      "text/markdown": [
       "7175"
      ],
      "text/plain": [
       "[1] 7175"
      ]
     },
     "metadata": {},
     "output_type": "display_data"
    }
   ],
   "source": [
    "1/3 * (Za^2+Zb^2+Zc^2) +\n",
    "2/3 * (Za^2+Zb^2+Zc^2) +\n",
    "\n",
    "1/3 * (Za.prime^2+Zb.prime^2+Zc.prime^2) +\n",
    "2/3 * (Za.prime^2+Zb.prime^2+Zc.prime^2)\n",
    "\n",
    "1/3 * (Za^2+Zb^2+Zc^2) +\n",
    "2/3 * (Za^2+Zb^2+Zc^2) \n",
    "\n",
    "1/3 * (Za.prime^2+Zb.prime^2+Zc.prime^2) +\n",
    "2/3 * (Za.prime^2+Zb.prime^2+Zc.prime^2)\n",
    "# When we add ALL the terms it does not matter where p1, p2 and p3 are positioned\n",
    "# p1, p2 and p3 are weights\n",
    "\n",
    "p1*(Za^2+Za.prime^2) + p2*(Zb^2+Zb.prime^2) + p3*(Zc^2+Zc.prime^2)\n",
    "p2*(Za^2+Za.prime^2) + p3*(Zb^2+Zb.prime^2) + p1*(Zc^2+Zc.prime^2)\n",
    "p3*(Za^2+Za.prime^2) + p1*(Zb^2+Zb.prime^2) + p2*(Zc^2+Zc.prime^2)\n"
   ]
  },
  {
   "cell_type": "code",
   "execution_count": 621,
   "metadata": {},
   "outputs": [
    {
     "data": {
      "text/html": [
       "0.6"
      ],
      "text/latex": [
       "0.6"
      ],
      "text/markdown": [
       "0.6"
      ],
      "text/plain": [
       "[1] 0.6"
      ]
     },
     "metadata": {},
     "output_type": "display_data"
    },
    {
     "data": {
      "text/html": [
       "0.3"
      ],
      "text/latex": [
       "0.3"
      ],
      "text/markdown": [
       "0.3"
      ],
      "text/plain": [
       "[1] 0.3"
      ]
     },
     "metadata": {},
     "output_type": "display_data"
    },
    {
     "data": {
      "text/html": [
       "0.1"
      ],
      "text/latex": [
       "0.1"
      ],
      "text/markdown": [
       "0.1"
      ],
      "text/plain": [
       "[1] 0.1"
      ]
     },
     "metadata": {},
     "output_type": "display_data"
    },
    {
     "data": {
      "text/html": [
       "7175"
      ],
      "text/latex": [
       "7175"
      ],
      "text/markdown": [
       "7175"
      ],
      "text/plain": [
       "[1] 7175"
      ]
     },
     "metadata": {},
     "output_type": "display_data"
    }
   ],
   "source": [
    "p1\n",
    "p2\n",
    "p3\n",
    "\n",
    "(1-p1)*Za^2 +\n",
    "(1-p2)*Zb^2 +\n",
    "(1-p3)*Zc^2 "
   ]
  },
  {
   "cell_type": "markdown",
   "metadata": {},
   "source": [
    "$$\n",
    "\\chi^2 = p_{1}.Z_{1}^2\\quad+\\quad\\left(1-p_{1}\\right).Z_{1}^2\\quad+\\quad p_{1}.Z_{1}'^2\\quad+\\quad\\left(1-p_{1}\\right).Z_{1}'^2\n",
    "\\\\\n",
    "\\chi^2 = p_{2}.Z_{2}^2\\quad+\\quad\\left(1-p_{2}\\right).Z_{2}^2\\quad +\\quad p_{2}.Z_{2}'^2\\quad+\\quad\\left(1-p_{2}\\right).Z_{2}'^2\n",
    "\\\\\n",
    "\\chi^2 = p_{3}.Z_{3}^2\\quad+\\quad\\left(1-p_{3}\\right).Z_{3}^2\\quad +\\quad p_{3}.Z_{3}'^2\\quad+\\quad\\left(1-p_{3}\\right).Z_{3}'^2\n",
    "$$"
   ]
  },
  {
   "cell_type": "code",
   "execution_count": 622,
   "metadata": {},
   "outputs": [
    {
     "data": {
      "text/html": [
       "7175"
      ],
      "text/latex": [
       "7175"
      ],
      "text/markdown": [
       "7175"
      ],
      "text/plain": [
       "[1] 7175"
      ]
     },
     "metadata": {},
     "output_type": "display_data"
    },
    {
     "data": {
      "text/html": [
       "14350"
      ],
      "text/latex": [
       "14350"
      ],
      "text/markdown": [
       "14350"
      ],
      "text/plain": [
       "[1] 14350"
      ]
     },
     "metadata": {},
     "output_type": "display_data"
    },
    {
     "data": {
      "text/html": [
       "0.286613930430864"
      ],
      "text/latex": [
       "0.286613930430864"
      ],
      "text/markdown": [
       "0.286613930430864"
      ],
      "text/plain": [
       "[1] 0.2866139"
      ]
     },
     "metadata": {},
     "output_type": "display_data"
    },
    {
     "data": {
      "text/html": [
       "1"
      ],
      "text/latex": [
       "1"
      ],
      "text/markdown": [
       "1"
      ],
      "text/plain": [
       "[1] 1"
      ]
     },
     "metadata": {},
     "output_type": "display_data"
    },
    {
     "data": {
      "text/html": [
       "0.222766071198127"
      ],
      "text/latex": [
       "0.222766071198127"
      ],
      "text/markdown": [
       "0.222766071198127"
      ],
      "text/plain": [
       "[1] 0.2227661"
      ]
     },
     "metadata": {},
     "output_type": "display_data"
    },
    {
     "data": {
      "text/html": [
       "0.777233928801873"
      ],
      "text/latex": [
       "0.777233928801873"
      ],
      "text/markdown": [
       "0.777233928801873"
      ],
      "text/plain": [
       "[1] 0.7772339"
      ]
     },
     "metadata": {},
     "output_type": "display_data"
    },
    {
     "data": {
      "text/html": [
       "1"
      ],
      "text/latex": [
       "1"
      ],
      "text/markdown": [
       "1"
      ],
      "text/plain": [
       "[1] 1"
      ]
     },
     "metadata": {},
     "output_type": "display_data"
    }
   ],
   "source": [
    "A+C\n",
    "B+D\n",
    "\n",
    "A/C\n",
    "B/D\n",
    "\n",
    "A/B\n",
    "C/D\n",
    "\n",
    "B/(A+C)"
   ]
  },
  {
   "cell_type": "code",
   "execution_count": 625,
   "metadata": {},
   "outputs": [
    {
     "data": {
      "text/html": [
       "0.222766071198127"
      ],
      "text/latex": [
       "0.222766071198127"
      ],
      "text/markdown": [
       "0.222766071198127"
      ],
      "text/plain": [
       "[1] 0.2227661"
      ]
     },
     "metadata": {},
     "output_type": "display_data"
    },
    {
     "data": {
      "text/html": [
       "0.777233928801873"
      ],
      "text/latex": [
       "0.777233928801873"
      ],
      "text/markdown": [
       "0.777233928801873"
      ],
      "text/plain": [
       "[1] 0.7772339"
      ]
     },
     "metadata": {},
     "output_type": "display_data"
    }
   ],
   "source": [
    "A/B\n",
    "C/D"
   ]
  },
  {
   "cell_type": "code",
   "execution_count": 591,
   "metadata": {},
   "outputs": [],
   "source": [
    "p <- 1/3\n",
    "\n",
    "a <- p*Za^2\n",
    "b <- p*Zb^2\n",
    "c <- p*Zc^2\n",
    "\n",
    "d <- (1-p)*Za^2\n",
    "e <- (1-p)*Zb^2\n",
    "f <- (1-p)*Zc^2\n",
    "\n",
    "g <- p*Za.prime^2\n",
    "h <- p*Zb.prime^2\n",
    "i <- p*Zc.prime^2\n",
    "\n",
    "j <- (1-p)*Za.prime^2\n",
    "k <- (1-p)*Zb.prime^2\n",
    "l <- (1-p)*Zc.prime^2\n",
    "\n",
    "\n",
    "A <- a+b+c\n",
    "B <- d+e+f\n",
    "C <- g+h+i\n",
    "D <- j+k+l"
   ]
  },
  {
   "cell_type": "code",
   "execution_count": 601,
   "metadata": {},
   "outputs": [],
   "source": [
    "a <- p1*Za^2\n",
    "b <- p2*Zb^2\n",
    "c <- p3*Zc^2\n",
    "\n",
    "d <- (1-p1)*Za^2\n",
    "e <- (1-p2)*Zb^2\n",
    "f <- (1-p3)*Zc^2\n",
    "\n",
    "g <- p1*Za.prime^2\n",
    "h <- p2*Zb.prime^2\n",
    "i <- p3*Zc.prime^2\n",
    "\n",
    "j <- (1-p1)*Za.prime^2\n",
    "k <- (1-p2)*Zb.prime^2\n",
    "l <- (1-p3)*Zc.prime^2\n",
    "\n",
    "\n",
    "A <- a+b+c\n",
    "B <- d+e+f\n",
    "C <- g+h+i\n",
    "D <- j+k+l"
   ]
  },
  {
   "cell_type": "code",
   "execution_count": 494,
   "metadata": {},
   "outputs": [
    {
     "name": "stdout",
     "output_type": "stream",
     "text": [
      "[1] \"1\"\n"
     ]
    },
    {
     "data": {
      "text/html": [
       "7175"
      ],
      "text/latex": [
       "7175"
      ],
      "text/markdown": [
       "7175"
      ],
      "text/plain": [
       "[1] 7175"
      ]
     },
     "metadata": {},
     "output_type": "display_data"
    },
    {
     "name": "stdout",
     "output_type": "stream",
     "text": [
      "[1] \"2\"\n"
     ]
    },
    {
     "data": {
      "text/html": [
       "14350"
      ],
      "text/latex": [
       "14350"
      ],
      "text/markdown": [
       "14350"
      ],
      "text/plain": [
       "[1] 14350"
      ]
     },
     "metadata": {},
     "output_type": "display_data"
    },
    {
     "name": "stdout",
     "output_type": "stream",
     "text": [
      "[1] \"3\"\n"
     ]
    },
    {
     "data": {
      "text/html": [
       "1549.06737686909"
      ],
      "text/latex": [
       "1549.06737686909"
      ],
      "text/markdown": [
       "1549.06737686909"
      ],
      "text/plain": [
       "[1] 1549.067"
      ]
     },
     "metadata": {},
     "output_type": "display_data"
    },
    {
     "data": {
      "text/html": [
       "1549.06737686909"
      ],
      "text/latex": [
       "1549.06737686909"
      ],
      "text/markdown": [
       "1549.06737686909"
      ],
      "text/plain": [
       "[1] 1549.067"
      ]
     },
     "metadata": {},
     "output_type": "display_data"
    },
    {
     "name": "stdout",
     "output_type": "stream",
     "text": [
      "[1] \"4\"\n"
     ]
    },
    {
     "data": {
      "text/html": [
       "2.03968253968254"
      ],
      "text/latex": [
       "2.03968253968254"
      ],
      "text/markdown": [
       "2.03968253968254"
      ],
      "text/plain": [
       "[1] 2.039683"
      ]
     },
     "metadata": {},
     "output_type": "display_data"
    },
    {
     "data": {
      "text/html": [
       "2.03968253968254"
      ],
      "text/latex": [
       "2.03968253968254"
      ],
      "text/markdown": [
       "2.03968253968254"
      ],
      "text/plain": [
       "[1] 2.039683"
      ]
     },
     "metadata": {},
     "output_type": "display_data"
    }
   ],
   "source": [
    "print('1')\n",
    "a+b+c+g+h+i\n",
    "print('2')\n",
    "d+e+f+j+k+l\n",
    "print('3')\n",
    "d/j + e/k + f/l\n",
    "a/g + b/h + c/i\n",
    "print('4')\n",
    "a/d + b/e + c/f\n",
    "g/j + h/k + i/l"
   ]
  },
  {
   "cell_type": "code",
   "execution_count": 497,
   "metadata": {},
   "outputs": [
    {
     "data": {
      "text/html": [
       "1549.06737686909"
      ],
      "text/latex": [
       "1549.06737686909"
      ],
      "text/markdown": [
       "1549.06737686909"
      ],
      "text/plain": [
       "[1] 1549.067"
      ]
     },
     "metadata": {},
     "output_type": "display_data"
    },
    {
     "data": {
      "text/html": [
       "1549.06737686909"
      ],
      "text/latex": [
       "1549.06737686909"
      ],
      "text/markdown": [
       "1549.06737686909"
      ],
      "text/plain": [
       "[1] 1549.067"
      ]
     },
     "metadata": {},
     "output_type": "display_data"
    }
   ],
   "source": [
    "d/j + e/k + f/l\n",
    "(d*k*l+e*j*l+f*j*k)/(j*k*l)"
   ]
  },
  {
   "cell_type": "code",
   "execution_count": 499,
   "metadata": {},
   "outputs": [
    {
     "data": {
      "text/html": [
       "30.1233374454793"
      ],
      "text/latex": [
       "30.1233374454793"
      ],
      "text/markdown": [
       "30.1233374454793"
      ],
      "text/plain": [
       "[1] 30.12334"
      ]
     },
     "metadata": {},
     "output_type": "display_data"
    },
    {
     "data": {
      "text/html": [
       "30.1233374454793"
      ],
      "text/latex": [
       "30.1233374454793"
      ],
      "text/markdown": [
       "30.1233374454793"
      ],
      "text/plain": [
       "[1] 30.12334"
      ]
     },
     "metadata": {},
     "output_type": "display_data"
    }
   ],
   "source": [
    "j/d + k/e + l/f\n",
    "g/a + h/b + i/c"
   ]
  },
  {
   "cell_type": "code",
   "execution_count": 501,
   "metadata": {},
   "outputs": [
    {
     "data": {
      "text/html": [
       "30.1233374454793"
      ],
      "text/latex": [
       "30.1233374454793"
      ],
      "text/markdown": [
       "30.1233374454793"
      ],
      "text/plain": [
       "[1] 30.12334"
      ]
     },
     "metadata": {},
     "output_type": "display_data"
    },
    {
     "data": {
      "text/html": [
       "30.1233374454793"
      ],
      "text/latex": [
       "30.1233374454793"
      ],
      "text/markdown": [
       "30.1233374454793"
      ],
      "text/plain": [
       "[1] 30.12334"
      ]
     },
     "metadata": {},
     "output_type": "display_data"
    }
   ],
   "source": [
    "(j*e*f + k*d*f + l*d*e) / (d*e*f)\n",
    "(g*b*c + h*a*c + i*a*b) / (a*b*c)"
   ]
  },
  {
   "cell_type": "code",
   "execution_count": 509,
   "metadata": {},
   "outputs": [
    {
     "data": {
      "text/html": [
       "0.228537455410226"
      ],
      "text/latex": [
       "0.228537455410226"
      ],
      "text/markdown": [
       "0.228537455410226"
      ],
      "text/plain": [
       "[1] 0.2285375"
      ]
     },
     "metadata": {},
     "output_type": "display_data"
    },
    {
     "data": {
      "text/html": [
       "0.228537455410226"
      ],
      "text/latex": [
       "0.228537455410226"
      ],
      "text/markdown": [
       "0.228537455410226"
      ],
      "text/plain": [
       "[1] 0.2285375"
      ]
     },
     "metadata": {},
     "output_type": "display_data"
    },
    {
     "data": {
      "text/html": [
       "0.428571428571429"
      ],
      "text/latex": [
       "0.428571428571429"
      ],
      "text/markdown": [
       "0.428571428571429"
      ],
      "text/plain": [
       "[1] 0.4285714"
      ]
     },
     "metadata": {},
     "output_type": "display_data"
    },
    {
     "data": {
      "text/html": [
       "0.428571428571429"
      ],
      "text/latex": [
       "0.428571428571429"
      ],
      "text/markdown": [
       "0.428571428571429"
      ],
      "text/plain": [
       "[1] 0.4285714"
      ]
     },
     "metadata": {},
     "output_type": "display_data"
    },
    {
     "data": {
      "text/html": [
       "0.111111111111111"
      ],
      "text/latex": [
       "0.111111111111111"
      ],
      "text/markdown": [
       "0.111111111111111"
      ],
      "text/plain": [
       "[1] 0.1111111"
      ]
     },
     "metadata": {},
     "output_type": "display_data"
    },
    {
     "data": {
      "text/html": [
       "0.111111111111111"
      ],
      "text/latex": [
       "0.111111111111111"
      ],
      "text/markdown": [
       "0.111111111111111"
      ],
      "text/plain": [
       "[1] 0.1111111"
      ]
     },
     "metadata": {},
     "output_type": "display_data"
    },
    {
     "data": {
      "text/html": [
       "1.5"
      ],
      "text/latex": [
       "1.5"
      ],
      "text/markdown": [
       "1.5"
      ],
      "text/plain": [
       "[1] 1.5"
      ]
     },
     "metadata": {},
     "output_type": "display_data"
    },
    {
     "data": {
      "text/html": [
       "1.5"
      ],
      "text/latex": [
       "1.5"
      ],
      "text/markdown": [
       "1.5"
      ],
      "text/plain": [
       "[1] 1.5"
      ]
     },
     "metadata": {},
     "output_type": "display_data"
    },
    {
     "data": {
      "text/html": [
       "0.0388394139615053"
      ],
      "text/latex": [
       "0.0388394139615053"
      ],
      "text/markdown": [
       "0.0388394139615053"
      ],
      "text/plain": [
       "[1] 0.03883941"
      ]
     },
     "metadata": {},
     "output_type": "display_data"
    },
    {
     "data": {
      "text/html": [
       "0.0388394139615053"
      ],
      "text/latex": [
       "0.0388394139615053"
      ],
      "text/markdown": [
       "0.0388394139615053"
      ],
      "text/plain": [
       "[1] 0.03883941"
      ]
     },
     "metadata": {},
     "output_type": "display_data"
    },
    {
     "data": {
      "text/html": [
       "1548.79999999972"
      ],
      "text/latex": [
       "1548.79999999972"
      ],
      "text/markdown": [
       "1548.79999999972"
      ],
      "text/plain": [
       "[1] 1548.8"
      ]
     },
     "metadata": {},
     "output_type": "display_data"
    },
    {
     "data": {
      "text/html": [
       "1548.79999999972"
      ],
      "text/latex": [
       "1548.79999999972"
      ],
      "text/markdown": [
       "1548.79999999972"
      ],
      "text/plain": [
       "[1] 1548.8"
      ]
     },
     "metadata": {},
     "output_type": "display_data"
    }
   ],
   "source": [
    "a/g\n",
    "d/j\n",
    "\n",
    "b/e\n",
    "h/k\n",
    "\n",
    "c/f\n",
    "i/l\n",
    "\n",
    "a/d\n",
    "g/j\n",
    "\n",
    "b/h\n",
    "e/k\n",
    "\n",
    "c/i\n",
    "f/l"
   ]
  },
  {
   "cell_type": "code",
   "execution_count": 510,
   "metadata": {},
   "outputs": [
    {
     "data": {
      "text/html": [
       "0.0714285714285715"
      ],
      "text/latex": [
       "0.0714285714285715"
      ],
      "text/markdown": [
       "0.0714285714285715"
      ],
      "text/plain": [
       "[1] 0.07142857"
      ]
     },
     "metadata": {},
     "output_type": "display_data"
    },
    {
     "data": {
      "text/html": [
       "0.0714285714285715"
      ],
      "text/latex": [
       "0.0714285714285715"
      ],
      "text/markdown": [
       "0.0714285714285715"
      ],
      "text/plain": [
       "[1] 0.07142857"
      ]
     },
     "metadata": {},
     "output_type": "display_data"
    }
   ],
   "source": [
    "(a*b*c)/(d*e*f)\n",
    "(g*h*i)/(j*k*l)"
   ]
  },
  {
   "cell_type": "code",
   "execution_count": 511,
   "metadata": {},
   "outputs": [
    {
     "data": {
      "text/html": [
       "0.222766071198127"
      ],
      "text/latex": [
       "0.222766071198127"
      ],
      "text/markdown": [
       "0.222766071198127"
      ],
      "text/plain": [
       "[1] 0.2227661"
      ]
     },
     "metadata": {},
     "output_type": "display_data"
    },
    {
     "data": {
      "text/html": [
       "0.777233928801873"
      ],
      "text/latex": [
       "0.777233928801873"
      ],
      "text/markdown": [
       "0.777233928801873"
      ],
      "text/plain": [
       "[1] 0.7772339"
      ]
     },
     "metadata": {},
     "output_type": "display_data"
    }
   ],
   "source": [
    "(a+b+c)/(d+e+f)\n",
    "(g+h+i)/(j+k+l)"
   ]
  },
  {
   "cell_type": "code",
   "execution_count": 512,
   "metadata": {},
   "outputs": [
    {
     "data": {
      "text/html": [
       "1598.34656084656"
      ],
      "text/latex": [
       "1598.34656084656"
      ],
      "text/markdown": [
       "1598.34656084656"
      ],
      "text/plain": [
       "[1] 1598.347"
      ]
     },
     "metadata": {},
     "output_type": "display_data"
    }
   ],
   "source": [
    "a+b+c"
   ]
  },
  {
   "cell_type": "code",
   "execution_count": 514,
   "metadata": {},
   "outputs": [
    {
     "data": {
      "text/html": [
       "1598.34656084656"
      ],
      "text/latex": [
       "1598.34656084656"
      ],
      "text/markdown": [
       "1598.34656084656"
      ],
      "text/plain": [
       "[1] 1598.347"
      ]
     },
     "metadata": {},
     "output_type": "display_data"
    },
    {
     "data": {
      "text/html": [
       "7175"
      ],
      "text/latex": [
       "7175"
      ],
      "text/markdown": [
       "7175"
      ],
      "text/plain": [
       "[1] 7175"
      ]
     },
     "metadata": {},
     "output_type": "display_data"
    },
    {
     "data": {
      "text/html": [
       "5576.65343915344"
      ],
      "text/latex": [
       "5576.65343915344"
      ],
      "text/markdown": [
       "5576.65343915344"
      ],
      "text/plain": [
       "[1] 5576.653"
      ]
     },
     "metadata": {},
     "output_type": "display_data"
    },
    {
     "data": {
      "text/html": [
       "7175"
      ],
      "text/latex": [
       "7175"
      ],
      "text/markdown": [
       "7175"
      ],
      "text/plain": [
       "[1] 7175"
      ]
     },
     "metadata": {},
     "output_type": "display_data"
    }
   ],
   "source": [
    "A\n",
    "B\n",
    "C\n",
    "D"
   ]
  },
  {
   "cell_type": "code",
   "execution_count": 525,
   "metadata": {},
   "outputs": [
    {
     "data": {
      "text/html": [
       "1"
      ],
      "text/latex": [
       "1"
      ],
      "text/markdown": [
       "1"
      ],
      "text/plain": [
       "[1] 1"
      ]
     },
     "metadata": {},
     "output_type": "display_data"
    },
    {
     "data": {
      "text/html": [
       "1"
      ],
      "text/latex": [
       "1"
      ],
      "text/markdown": [
       "1"
      ],
      "text/plain": [
       "[1] 1"
      ]
     },
     "metadata": {},
     "output_type": "display_data"
    },
    {
     "data": {
      "text/html": [
       "51480625"
      ],
      "text/latex": [
       "51480625"
      ],
      "text/markdown": [
       "51480625"
      ],
      "text/plain": [
       "[1] 51480625"
      ]
     },
     "metadata": {},
     "output_type": "display_data"
    },
    {
     "data": {
      "text/html": [
       "51480625"
      ],
      "text/latex": [
       "51480625"
      ],
      "text/markdown": [
       "51480625"
      ],
      "text/plain": [
       "[1] 51480625"
      ]
     },
     "metadata": {},
     "output_type": "display_data"
    },
    {
     "data": {
      "text/html": [
       "-22925901.4550265"
      ],
      "text/latex": [
       "-22925901.4550265"
      ],
      "text/markdown": [
       "-22925901.4550265"
      ],
      "text/plain": [
       "[1] -22925901"
      ]
     },
     "metadata": {},
     "output_type": "display_data"
    },
    {
     "data": {
      "text/html": [
       "-51466275"
      ],
      "text/latex": [
       "-51466275"
      ],
      "text/markdown": [
       "-51466275"
      ],
      "text/plain": [
       "[1] -51466275"
      ]
     },
     "metadata": {},
     "output_type": "display_data"
    }
   ],
   "source": [
    "(A*D + C*B) / (B*D)\n",
    "(A*(2*7175-B) + B*(1*7175-A))/(B*(2*7175-B))\n",
    "\n",
    "(A*(2*7175-B) + B*(1*7175-A))\n",
    "(B*(2*7175-B))\n",
    "\n",
    "2*A-A*B+B-A*B\n",
    "2*B-B^2"
   ]
  },
  {
   "cell_type": "code",
   "execution_count": 524,
   "metadata": {},
   "outputs": [
    {
     "data": {
      "text/html": [
       "11468136.5740741"
      ],
      "text/latex": [
       "11468136.5740741"
      ],
      "text/markdown": [
       "11468136.5740741"
      ],
      "text/plain": [
       "[1] 11468137"
      ]
     },
     "metadata": {},
     "output_type": "display_data"
    },
    {
     "data": {
      "text/html": [
       "11468136.5740741"
      ],
      "text/latex": [
       "11468136.5740741"
      ],
      "text/markdown": [
       "11468136.5740741"
      ],
      "text/plain": [
       "[1] 11468137"
      ]
     },
     "metadata": {},
     "output_type": "display_data"
    },
    {
     "data": {
      "text/html": [
       "40012488.4259259"
      ],
      "text/latex": [
       "40012488.4259259"
      ],
      "text/markdown": [
       "40012488.4259259"
      ],
      "text/plain": [
       "[1] 40012488"
      ]
     },
     "metadata": {},
     "output_type": "display_data"
    },
    {
     "data": {
      "text/html": [
       "40012488.4259259"
      ],
      "text/latex": [
       "40012488.4259259"
      ],
      "text/markdown": [
       "40012488.4259259"
      ],
      "text/plain": [
       "[1] 40012488"
      ]
     },
     "metadata": {},
     "output_type": "display_data"
    },
    {
     "data": {
      "text/html": [
       "51480625"
      ],
      "text/latex": [
       "51480625"
      ],
      "text/markdown": [
       "51480625"
      ],
      "text/plain": [
       "[1] 51480625"
      ]
     },
     "metadata": {},
     "output_type": "display_data"
    },
    {
     "data": {
      "text/html": [
       "51480625"
      ],
      "text/latex": [
       "51480625"
      ],
      "text/markdown": [
       "51480625"
      ],
      "text/plain": [
       "[1] 51480625"
      ]
     },
     "metadata": {},
     "output_type": "display_data"
    },
    {
     "data": {
      "text/html": [
       "-51484603.3068783"
      ],
      "text/latex": [
       "-51484603.3068783"
      ],
      "text/markdown": [
       "-51484603.3068783"
      ],
      "text/plain": [
       "[1] -51484603"
      ]
     },
     "metadata": {},
     "output_type": "display_data"
    }
   ],
   "source": [
    "A*D\n",
    "A*(2*7175-B)\n",
    "\n",
    "C*B\n",
    "B*(7175-A)\n",
    "\n",
    "B*D\n",
    "B*(2*7175-B)\n",
    "\n",
    "2*A-B-B^2"
   ]
  },
  {
   "cell_type": "code",
   "execution_count": 526,
   "metadata": {},
   "outputs": [
    {
     "data": {
      "text/html": [
       "0"
      ],
      "text/latex": [
       "0"
      ],
      "text/markdown": [
       "0"
      ],
      "text/plain": [
       "[1] 0"
      ]
     },
     "metadata": {},
     "output_type": "display_data"
    },
    {
     "data": {
      "text/html": [
       "7.45058059692383e-09"
      ],
      "text/latex": [
       "7.45058059692383e-09"
      ],
      "text/markdown": [
       "7.45058059692383e-09"
      ],
      "text/plain": [
       "[1] 7.450581e-09"
      ]
     },
     "metadata": {},
     "output_type": "display_data"
    }
   ],
   "source": [
    "2*7175*A-2*A*B\n",
    "B*7175-B^2"
   ]
  },
  {
   "cell_type": "code",
   "execution_count": 528,
   "metadata": {},
   "outputs": [
    {
     "data": {
      "text/html": [
       "0.0714285714285715"
      ],
      "text/latex": [
       "0.0714285714285715"
      ],
      "text/markdown": [
       "0.0714285714285715"
      ],
      "text/plain": [
       "[1] 0.07142857"
      ]
     },
     "metadata": {},
     "output_type": "display_data"
    },
    {
     "data": {
      "text/html": [
       "0.0714285714285715"
      ],
      "text/latex": [
       "0.0714285714285715"
      ],
      "text/markdown": [
       "0.0714285714285715"
      ],
      "text/plain": [
       "[1] 0.07142857"
      ]
     },
     "metadata": {},
     "output_type": "display_data"
    },
    {
     "data": {
      "text/html": [
       "13.7475527833934"
      ],
      "text/latex": [
       "13.7475527833934"
      ],
      "text/markdown": [
       "13.7475527833934"
      ],
      "text/plain": [
       "[1] 13.74755"
      ]
     },
     "metadata": {},
     "output_type": "display_data"
    },
    {
     "data": {
      "text/html": [
       "13.7475527833934"
      ],
      "text/latex": [
       "13.7475527833934"
      ],
      "text/markdown": [
       "13.7475527833934"
      ],
      "text/plain": [
       "[1] 13.74755"
      ]
     },
     "metadata": {},
     "output_type": "display_data"
    }
   ],
   "source": [
    "(a*b*c)/(d*e*f)\n",
    "(g*h*i)/(j*k*l)\n",
    "\n",
    "(a*b*c)/(g*h*i)\n",
    "(d*e*f)/(j*k*l)"
   ]
  },
  {
   "cell_type": "code",
   "execution_count": 530,
   "metadata": {},
   "outputs": [
    {
     "data": {
      "text/html": [
       "11468136.5740741"
      ],
      "text/latex": [
       "11468136.5740741"
      ],
      "text/markdown": [
       "11468136.5740741"
      ],
      "text/plain": [
       "[1] 11468137"
      ]
     },
     "metadata": {},
     "output_type": "display_data"
    },
    {
     "data": {
      "text/html": [
       "40012488.4259259"
      ],
      "text/latex": [
       "40012488.4259259"
      ],
      "text/markdown": [
       "40012488.4259259"
      ],
      "text/plain": [
       "[1] 40012488"
      ]
     },
     "metadata": {},
     "output_type": "display_data"
    },
    {
     "data": {
      "text/html": [
       "8913424.84550405"
      ],
      "text/latex": [
       "8913424.84550405"
      ],
      "text/markdown": [
       "8913424.84550405"
      ],
      "text/plain": [
       "[1] 8913425"
      ]
     },
     "metadata": {},
     "output_type": "display_data"
    },
    {
     "data": {
      "text/html": [
       "51480625"
      ],
      "text/latex": [
       "51480625"
      ],
      "text/markdown": [
       "51480625"
      ],
      "text/plain": [
       "[1] 51480625"
      ]
     },
     "metadata": {},
     "output_type": "display_data"
    }
   ],
   "source": [
    "A*B\n",
    "C*D\n",
    "\n",
    "A*C\n",
    "B*D"
   ]
  },
  {
   "cell_type": "code",
   "execution_count": 531,
   "metadata": {},
   "outputs": [
    {
     "data": {
      "text/html": [
       "1242.28917707373"
      ],
      "text/latex": [
       "1242.28917707373"
      ],
      "text/markdown": [
       "1242.28917707373"
      ],
      "text/plain": [
       "[1] 1242.289"
      ]
     },
     "metadata": {},
     "output_type": "display_data"
    },
    {
     "data": {
      "text/html": [
       "5576.65343915344"
      ],
      "text/latex": [
       "5576.65343915344"
      ],
      "text/markdown": [
       "5576.65343915344"
      ],
      "text/plain": [
       "[1] 5576.653"
      ]
     },
     "metadata": {},
     "output_type": "display_data"
    }
   ],
   "source": [
    "A*C/D\n",
    "C*D/B"
   ]
  },
  {
   "cell_type": "code",
   "execution_count": 643,
   "metadata": {},
   "outputs": [
    {
     "data": {
      "text/html": [
       "0.222766071198127"
      ],
      "text/latex": [
       "0.222766071198127"
      ],
      "text/markdown": [
       "0.222766071198127"
      ],
      "text/plain": [
       "[1] 0.2227661"
      ]
     },
     "metadata": {},
     "output_type": "display_data"
    },
    {
     "data": {
      "text/html": [
       "1.28661393043086"
      ],
      "text/latex": [
       "1.28661393043086"
      ],
      "text/markdown": [
       "1.28661393043086"
      ],
      "text/plain": [
       "[1] 1.286614"
      ]
     },
     "metadata": {},
     "output_type": "display_data"
    },
    {
     "data": {
      "text/html": [
       "0.777233928801873"
      ],
      "text/latex": [
       "0.777233928801873"
      ],
      "text/markdown": [
       "0.777233928801873"
      ],
      "text/plain": [
       "[1] 0.7772339"
      ]
     },
     "metadata": {},
     "output_type": "display_data"
    },
    {
     "data": {
      "text/html": [
       "0.286613930430864"
      ],
      "text/latex": [
       "0.286613930430864"
      ],
      "text/markdown": [
       "0.286613930430864"
      ],
      "text/plain": [
       "[1] 0.2866139"
      ]
     },
     "metadata": {},
     "output_type": "display_data"
    },
    {
     "data": {
      "text/html": [
       "0.222766071198127"
      ],
      "text/latex": [
       "0.222766071198127"
      ],
      "text/markdown": [
       "0.222766071198127"
      ],
      "text/plain": [
       "[1] 0.2227661"
      ]
     },
     "metadata": {},
     "output_type": "display_data"
    },
    {
     "data": {
      "text/html": [
       "0.5"
      ],
      "text/latex": [
       "0.5"
      ],
      "text/markdown": [
       "0.5"
      ],
      "text/plain": [
       "[1] 0.5"
      ]
     },
     "metadata": {},
     "output_type": "display_data"
    }
   ],
   "source": [
    "A/B \n",
    "B/C\n",
    "C/D\n",
    "A/C\n",
    "\n",
    "A/(A+C)\n",
    "B/(B+D)"
   ]
  },
  {
   "cell_type": "code",
   "execution_count": 538,
   "metadata": {},
   "outputs": [
    {
     "data": {
      "text/html": [
       "1.28661393043086"
      ],
      "text/latex": [
       "1.28661393043086"
      ],
      "text/markdown": [
       "1.28661393043086"
      ],
      "text/plain": [
       "[1] 1.286614"
      ]
     },
     "metadata": {},
     "output_type": "display_data"
    },
    {
     "data": {
      "text/html": [
       "1.28661393043086"
      ],
      "text/latex": [
       "1.28661393043086"
      ],
      "text/markdown": [
       "1.28661393043086"
      ],
      "text/plain": [
       "[1] 1.286614"
      ]
     },
     "metadata": {},
     "output_type": "display_data"
    }
   ],
   "source": [
    "B/C\n",
    "A/C + 1"
   ]
  },
  {
   "cell_type": "code",
   "execution_count": 553,
   "metadata": {},
   "outputs": [
    {
     "data": {
      "text/html": [
       "14350"
      ],
      "text/latex": [
       "14350"
      ],
      "text/markdown": [
       "14350"
      ],
      "text/plain": [
       "[1] 14350"
      ]
     },
     "metadata": {},
     "output_type": "display_data"
    }
   ],
   "source": [
    "Za^2+Zb^2+Zc^2 +\n",
    "Za.prime^2+Zb.prime^2+Zc.prime^2 -\n",
    "(A+C)"
   ]
  },
  {
   "cell_type": "code",
   "execution_count": 554,
   "metadata": {},
   "outputs": [
    {
     "data": {
      "text/html": [
       "14350"
      ],
      "text/latex": [
       "14350"
      ],
      "text/markdown": [
       "14350"
      ],
      "text/plain": [
       "[1] 14350"
      ]
     },
     "metadata": {},
     "output_type": "display_data"
    }
   ],
   "source": [
    "B+D"
   ]
  },
  {
   "cell_type": "code",
   "execution_count": 558,
   "metadata": {},
   "outputs": [
    {
     "data": {
      "text/html": [
       "0.0714285714285715"
      ],
      "text/latex": [
       "0.0714285714285715"
      ],
      "text/markdown": [
       "0.0714285714285715"
      ],
      "text/plain": [
       "[1] 0.07142857"
      ]
     },
     "metadata": {},
     "output_type": "display_data"
    },
    {
     "data": {
      "text/html": [
       "0.0714285714285715"
      ],
      "text/latex": [
       "0.0714285714285715"
      ],
      "text/markdown": [
       "0.0714285714285715"
      ],
      "text/plain": [
       "[1] 0.07142857"
      ]
     },
     "metadata": {},
     "output_type": "display_data"
    },
    {
     "data": {
      "text/html": [
       "0.869918993010234"
      ],
      "text/latex": [
       "0.869918993010234"
      ],
      "text/markdown": [
       "0.869918993010234"
      ],
      "text/plain": [
       "[1] 0.869919"
      ]
     },
     "metadata": {},
     "output_type": "display_data"
    },
    {
     "data": {
      "text/html": [
       "0.850621692504868"
      ],
      "text/latex": [
       "0.850621692504868"
      ],
      "text/markdown": [
       "0.850621692504868"
      ],
      "text/plain": [
       "[1] 0.8506217"
      ]
     },
     "metadata": {},
     "output_type": "display_data"
    }
   ],
   "source": [
    "(a*b*c)/(d*e*f)\n",
    "(g*h*i)/(j*k*l)\n",
    "\n",
    "log(a*b*c)/log(d*e*f)\n",
    "log(g*h*i)/log(j*k*l)"
   ]
  },
  {
   "cell_type": "code",
   "execution_count": 557,
   "metadata": {},
   "outputs": [
    {
     "data": {
      "text/html": [
       "0.869918993010234"
      ],
      "text/latex": [
       "0.869918993010234"
      ],
      "text/markdown": [
       "0.869918993010234"
      ],
      "text/plain": [
       "[1] 0.869919"
      ]
     },
     "metadata": {},
     "output_type": "display_data"
    },
    {
     "data": {
      "text/html": [
       "0.850621692504868"
      ],
      "text/latex": [
       "0.850621692504868"
      ],
      "text/markdown": [
       "0.850621692504868"
      ],
      "text/plain": [
       "[1] 0.8506217"
      ]
     },
     "metadata": {},
     "output_type": "display_data"
    }
   ],
   "source": [
    "(log(a)+log(b)+log(c)) / (log(d)+log(e)+log(f))\n",
    "(log(g)+log(h)+log(i)) / (log(j)+log(k)+log(l))"
   ]
  },
  {
   "cell_type": "code",
   "execution_count": 560,
   "metadata": {},
   "outputs": [
    {
     "data": {
      "text/html": [
       "155337705115395"
      ],
      "text/latex": [
       "155337705115395"
      ],
      "text/markdown": [
       "155337705115395"
      ],
      "text/plain": [
       "[1] 1.553377e+14"
      ]
     },
     "metadata": {},
     "output_type": "display_data"
    },
    {
     "data": {
      "text/html": [
       "30446190202617476"
      ],
      "text/latex": [
       "30446190202617476"
      ],
      "text/markdown": [
       "30446190202617476"
      ],
      "text/plain": [
       "[1] 3.044619e+16"
      ]
     },
     "metadata": {},
     "output_type": "display_data"
    }
   ],
   "source": [
    "(a*b*c)*(g*h*i)\n",
    "(d*e*f)*(j*k*l)"
   ]
  },
  {
   "cell_type": "code",
   "execution_count": 561,
   "metadata": {},
   "outputs": [
    {
     "data": {
      "text/html": [
       "0.5"
      ],
      "text/latex": [
       "0.5"
      ],
      "text/markdown": [
       "0.5"
      ],
      "text/plain": [
       "[1] 0.5"
      ]
     },
     "metadata": {},
     "output_type": "display_data"
    },
    {
     "data": {
      "text/html": [
       "0.5"
      ],
      "text/latex": [
       "0.5"
      ],
      "text/markdown": [
       "0.5"
      ],
      "text/plain": [
       "[1] 0.5"
      ]
     },
     "metadata": {},
     "output_type": "display_data"
    }
   ],
   "source": [
    "1/2\n",
    "2/4"
   ]
  },
  {
   "cell_type": "code",
   "execution_count": 562,
   "metadata": {},
   "outputs": [
    {
     "data": {
      "text/html": [
       "0"
      ],
      "text/latex": [
       "0"
      ],
      "text/markdown": [
       "0"
      ],
      "text/plain": [
       "[1] 0"
      ]
     },
     "metadata": {},
     "output_type": "display_data"
    },
    {
     "data": {
      "text/html": [
       "0.5"
      ],
      "text/latex": [
       "0.5"
      ],
      "text/markdown": [
       "0.5"
      ],
      "text/plain": [
       "[1] 0.5"
      ]
     },
     "metadata": {},
     "output_type": "display_data"
    }
   ],
   "source": [
    "log(1)/log(2)\n",
    "log(2)/log(4)"
   ]
  },
  {
   "cell_type": "code",
   "execution_count": 563,
   "metadata": {},
   "outputs": [
    {
     "data": {
      "text/html": [
       "-0.693147180559945"
      ],
      "text/latex": [
       "-0.693147180559945"
      ],
      "text/markdown": [
       "-0.693147180559945"
      ],
      "text/plain": [
       "[1] -0.6931472"
      ]
     },
     "metadata": {},
     "output_type": "display_data"
    }
   ],
   "source": [
    "log(1)-log(2)"
   ]
  },
  {
   "cell_type": "code",
   "execution_count": 564,
   "metadata": {},
   "outputs": [
    {
     "data": {
      "text/html": [
       "3.17805383034795"
      ],
      "text/latex": [
       "3.17805383034795"
      ],
      "text/markdown": [
       "3.17805383034795"
      ],
      "text/plain": [
       "[1] 3.178054"
      ]
     },
     "metadata": {},
     "output_type": "display_data"
    },
    {
     "data": {
      "text/html": [
       "3.17805383034795"
      ],
      "text/latex": [
       "3.17805383034795"
      ],
      "text/markdown": [
       "3.17805383034795"
      ],
      "text/plain": [
       "[1] 3.178054"
      ]
     },
     "metadata": {},
     "output_type": "display_data"
    }
   ],
   "source": [
    "log(2*3*4)\n",
    "log(2) + log(3) + log(4)"
   ]
  },
  {
   "cell_type": "code",
   "execution_count": 568,
   "metadata": {},
   "outputs": [
    {
     "data": {
      "text/html": [
       "0.0714285714285715"
      ],
      "text/latex": [
       "0.0714285714285715"
      ],
      "text/markdown": [
       "0.0714285714285715"
      ],
      "text/plain": [
       "[1] 0.07142857"
      ]
     },
     "metadata": {},
     "output_type": "display_data"
    },
    {
     "data": {
      "text/html": [
       "0.0714285714285715"
      ],
      "text/latex": [
       "0.0714285714285715"
      ],
      "text/markdown": [
       "0.0714285714285715"
      ],
      "text/plain": [
       "[1] 0.07142857"
      ]
     },
     "metadata": {},
     "output_type": "display_data"
    },
    {
     "data": {
      "text/html": [
       "2174727871615535"
      ],
      "text/latex": [
       "2174727871615535"
      ],
      "text/markdown": [
       "2174727871615535"
      ],
      "text/plain": [
       "[1] 2.174728e+15"
      ]
     },
     "metadata": {},
     "output_type": "display_data"
    },
    {
     "data": {
      "text/html": [
       "2174727871615535"
      ],
      "text/latex": [
       "2174727871615535"
      ],
      "text/markdown": [
       "2174727871615535"
      ],
      "text/plain": [
       "[1] 2.174728e+15"
      ]
     },
     "metadata": {},
     "output_type": "display_data"
    },
    {
     "data": {
      "text/html": [
       "35.315679935125"
      ],
      "text/latex": [
       "35.315679935125"
      ],
      "text/markdown": [
       "35.315679935125"
      ],
      "text/plain": [
       "[1] 35.31568"
      ]
     },
     "metadata": {},
     "output_type": "display_data"
    },
    {
     "data": {
      "text/html": [
       "35.315679935125"
      ],
      "text/latex": [
       "35.315679935125"
      ],
      "text/markdown": [
       "35.315679935125"
      ],
      "text/plain": [
       "[1] 35.31568"
      ]
     },
     "metadata": {},
     "output_type": "display_data"
    },
    {
     "data": {
      "text/html": [
       "35.315679935125"
      ],
      "text/latex": [
       "35.315679935125"
      ],
      "text/markdown": [
       "35.315679935125"
      ],
      "text/plain": [
       "[1] 35.31568"
      ]
     },
     "metadata": {},
     "output_type": "display_data"
    },
    {
     "data": {
      "text/html": [
       "35.315679935125"
      ],
      "text/latex": [
       "35.315679935125"
      ],
      "text/markdown": [
       "35.315679935125"
      ],
      "text/plain": [
       "[1] 35.31568"
      ]
     },
     "metadata": {},
     "output_type": "display_data"
    }
   ],
   "source": [
    "(a*b*c)/(d*e*f)\n",
    "(g*h*i)/(j*k*l)\n",
    "\n",
    "(a*b*c)*(j*k*l)\n",
    "(d*e*f)*(g*h*i)\n",
    "\n",
    "log(a*b*c*j*k*l)\n",
    "log(d*e*f*g*h*i)\n",
    "\n",
    "log(a) + log(b) + log(c) + log(j) + log(k) + log(l)\n",
    "log(d) + log(e) + log(f) + log(g) + log(h) + log(i)"
   ]
  },
  {
   "cell_type": "code",
   "execution_count": 570,
   "metadata": {},
   "outputs": [
    {
     "data": {
      "text/html": [
       "17.6487417171963"
      ],
      "text/latex": [
       "17.6487417171963"
      ],
      "text/markdown": [
       "17.6487417171963"
      ],
      "text/plain": [
       "[1] 17.64874"
      ]
     },
     "metadata": {},
     "output_type": "display_data"
    },
    {
     "data": {
      "text/html": [
       "7.37672497443159"
      ],
      "text/latex": [
       "7.37672497443159"
      ],
      "text/markdown": [
       "7.37672497443159"
      ],
      "text/plain": [
       "[1] 7.376725"
      ]
     },
     "metadata": {},
     "output_type": "display_data"
    }
   ],
   "source": [
    "log(a) + log(b) + log(c)\n",
    "log(A)"
   ]
  },
  {
   "cell_type": "code",
   "execution_count": 574,
   "metadata": {},
   "outputs": [
    {
     "data": {
      "text/html": [
       "1"
      ],
      "text/latex": [
       "1"
      ],
      "text/markdown": [
       "1"
      ],
      "text/plain": [
       "[1] 1"
      ]
     },
     "metadata": {},
     "output_type": "display_data"
    },
    {
     "data": {
      "text/html": [
       "51480625"
      ],
      "text/latex": [
       "51480625"
      ],
      "text/markdown": [
       "51480625"
      ],
      "text/plain": [
       "[1] 51480625"
      ]
     },
     "metadata": {},
     "output_type": "display_data"
    },
    {
     "data": {
      "text/html": [
       "51480625"
      ],
      "text/latex": [
       "51480625"
      ],
      "text/markdown": [
       "51480625"
      ],
      "text/plain": [
       "[1] 51480625"
      ]
     },
     "metadata": {},
     "output_type": "display_data"
    }
   ],
   "source": [
    "A/B + C/D\n",
    "A*D + C*B\n",
    "B*D"
   ]
  },
  {
   "cell_type": "code",
   "execution_count": 575,
   "metadata": {},
   "outputs": [
    {
     "data": {
      "text/html": [
       "7175"
      ],
      "text/latex": [
       "7175"
      ],
      "text/markdown": [
       "7175"
      ],
      "text/plain": [
       "[1] 7175"
      ]
     },
     "metadata": {},
     "output_type": "display_data"
    }
   ],
   "source": [
    "sqrt(51480625)"
   ]
  },
  {
   "cell_type": "code",
   "execution_count": 582,
   "metadata": {},
   "outputs": [
    {
     "data": {
      "text/html": [
       "1"
      ],
      "text/latex": [
       "1"
      ],
      "text/markdown": [
       "1"
      ],
      "text/plain": [
       "[1] 1"
      ]
     },
     "metadata": {},
     "output_type": "display_data"
    }
   ],
   "source": [
    "B/D"
   ]
  },
  {
   "cell_type": "code",
   "execution_count": 586,
   "metadata": {},
   "outputs": [
    {
     "data": {
      "text/html": [
       "8913424.84550405"
      ],
      "text/latex": [
       "8913424.84550405"
      ],
      "text/markdown": [
       "8913424.84550405"
      ],
      "text/plain": [
       "[1] 8913425"
      ]
     },
     "metadata": {},
     "output_type": "display_data"
    }
   ],
   "source": [
    "A*C"
   ]
  },
  {
   "cell_type": "code",
   "execution_count": 645,
   "metadata": {},
   "outputs": [
    {
     "data": {
      "text/plain": [
       "\n",
       "\tChi-squared test for given probabilities\n",
       "\n",
       "data:  c(140, 150, 160, 170, 180, 200)\n",
       "X-squared = 14, df = 5, p-value = 0.01561\n"
      ]
     },
     "metadata": {},
     "output_type": "display_data"
    }
   ],
   "source": [
    "chisq.test(x = c(140, 150, 160, 170, 180, 200), p = c(1/6, 1/6, 1/6, 1/6, 1/6, 1/6))"
   ]
  },
  {
   "cell_type": "markdown",
   "metadata": {},
   "source": [
    "$$\n",
    "\\chi^2\\quad=\n",
    "\\quad\\left(p_{1}\\right).\\frac{\\left(O_{1}-np_{1}\\right)^2}{np_{1}\\left(1-p_{1}\\right)}\\quad+\n",
    "\\quad\\left(1-p_{1}\\right).\\frac{\\left(O_{1}-np_{1}\\right)^2}{np_{1}\\left(1-p_{1}\\right)}\\quad+\n",
    "\\quad\\left(p_{1}\\right).\\left(\\chi^2-\\frac{\\left(O_{1}-np_{1}\\right)^2}{np_{1}\\left(1-p_{1}\\right)}\\right)\\quad+\n",
    "\\quad\\left(1-p_{1}\\right).\\left(\\chi^2-\\frac{\\left(O_{1}-np_{1}\\right)^2}{np_{1}\\left(1-p_{1}\\right)}\\right)\n",
    "$$"
   ]
  },
  {
   "cell_type": "code",
   "execution_count": null,
   "metadata": {},
   "outputs": [],
   "source": []
  },
  {
   "cell_type": "code",
   "execution_count": null,
   "metadata": {},
   "outputs": [],
   "source": []
  }
 ],
 "metadata": {
  "kernelspec": {
   "display_name": "R",
   "language": "R",
   "name": "ir"
  },
  "language_info": {
   "codemirror_mode": "r",
   "file_extension": ".r",
   "mimetype": "text/x-r-source",
   "name": "R",
   "pygments_lexer": "r",
   "version": "4.2.3"
  }
 },
 "nbformat": 4,
 "nbformat_minor": 2
}
